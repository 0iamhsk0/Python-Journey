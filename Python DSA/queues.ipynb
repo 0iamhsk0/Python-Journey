{
 "cells": [
  {
   "cell_type": "code",
   "execution_count": null,
   "metadata": {},
   "outputs": [],
   "source": [
    "#implementing all queue operations using deque\n",
    "\n",
    "from collections import deque\n",
    "\n",
    "class Queue:\n",
    "    def __init__(self):\n",
    "        self.queue = deque() #an empty queue\n",
    "        pass\n",
    "\n",
    "    def enqueue(self, data):\n",
    "        #check if the queue is empty and not full\n",
    "        self.queue.append(data)\n",
    "    \n",
    "    def dequeue(self):\n",
    "        self.queue.pop()\n",
    "\n",
    "    def front(self):\n",
    "        self.front_key = self.queue(0)\n",
    "\n",
    "    def enqueue_front(self, data):\n",
    "        self.queue.appendleft(data)\n",
    "        \n",
    "    \n",
    "    def dequeue_front(self):\n",
    "        self.queue.popleft()\n",
    "\n",
    "    def check_size(self):\n",
    "        if len(self.queue) == -1:\n",
    "            print(\"The queue is empty\")\n",
    "        elif len(self.queue) >= 1:\n",
    "            print(\"Queue is not full and the size is: \", len(self.queue))\n",
    "\n",
    "\n",
    "\n",
    "\n"
   ]
  }
 ],
 "metadata": {
  "language_info": {
   "name": "python"
  }
 },
 "nbformat": 4,
 "nbformat_minor": 2
}
