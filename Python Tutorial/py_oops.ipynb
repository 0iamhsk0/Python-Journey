{
 "cells": [
  {
   "cell_type": "markdown",
   "id": "d5fced05",
   "metadata": {},
   "source": [
    "\n",
    "# 📘 Python OOP Terminologies\n",
    "\n",
    "Object-Oriented Programming (OOP) is a paradigm based on the concept of \"objects\", which contain both data and behavior.\n",
    "\n",
    "## 🔹 Key OOP Concepts in Python:\n",
    "\n",
    "- **Class**  \n",
    "  Blueprint for creating objects. It defines properties and behaviors (via methods).\n",
    "\n",
    "- **Object**  \n",
    "  An instance of a class. Each object has its own state and behaviors.\n",
    "\n",
    "- **Constructor (`__init__`)**  \n",
    "  A special method that is automatically called when an object is created. Used to initialize object attributes.\n",
    "\n",
    "- **Self**  \n",
    "  A reference to the current instance of the class. Must be the first parameter in instance methods.\n",
    "\n",
    "- **Attributes (Instance Variables)**  \n",
    "  Variables that hold data specific to an object. Defined in the constructor using `self`.\n",
    "\n",
    "- **Methods**  \n",
    "  Functions defined inside a class to define behaviors of objects.\n",
    "\n",
    "- **Encapsulation**  \n",
    "  Wrapping data and methods into a single unit (a class). Protects object state by restricting access using access modifiers.\n",
    "\n",
    "- **Abstraction**  \n",
    "  Hiding internal implementation and showing only essential features. Achieved using abstract base classes.\n",
    "\n",
    "- **Inheritance**  \n",
    "  A way to create a new class from an existing one, inheriting its attributes and methods.\n",
    "\n",
    "- **Polymorphism**  \n",
    "  Ability to take many forms — same method name behaves differently depending on object/class.\n",
    "\n",
    "- **Access Modifiers**  \n",
    "  Control visibility of class members:\n",
    "  - `public` (default)\n",
    "  - `_protected` (convention only)\n",
    "  - `__private` (name mangled)\n",
    "\n",
    "- **Class Variable**  \n",
    "  Shared among all instances of a class. Defined directly inside the class.\n",
    "\n",
    "- **Instance Variable**  \n",
    "  Unique to each object. Defined using `self` in the constructor.\n",
    "\n",
    "- **Static Method**  \n",
    "  A method that doesn’t use `self` or `cls`. Decorated with `@staticmethod`.\n",
    "\n",
    "- **Class Method**  \n",
    "  Operates on the class itself, not instances. Decorated with `@classmethod`.\n",
    "\n",
    "- **Dunder Methods / Magic Methods**  \n",
    "  Special methods that start and end with double underscores (e.g., `__init__`, `__str__`, `__len__`). Used to overload operators or customize behavior.\n",
    "\n",
    "- **Multiple Inheritance**  \n",
    "  A class inheriting from more than one base class.\n",
    "\n",
    "- **Composition**  \n",
    "  A class containing objects of other classes as members (has-a relationship).\n",
    "\n",
    "- **Iterable**\n",
    "  An iterable is an object that can be looped over, meaning it can return its members one at a time. This is achieved by implementing either:\n",
    "  - The `__iter__()` method, which returns an iterator.\n",
    "  - The `__getitem__()` method, which allows access to elements by sequential indices (e.g., object[0], object[1]).\n",
    "  Examples of built-in iterables include lists, tuples, strings, and dictionaries.\n",
    "\n",
    "- **Iterator**\n",
    "  An iterator is an object that represents a stream of data and can be used to iterate over an iterable. It maintains the state of the iteration and provides the next value in the sequence. An iterator must implement:\n",
    "  - The `__iter__()` method, which returns the iterator itself.\n",
    "  - The `__next__()` method, which returns the next item from the iteration. When there are no more items, it raises a `StopIteration` error\n",
    "\n",
    "- **Abstract Class**\n",
    "  In Python, an abstract class serves as a blueprint or template for other classes. It cannot be instantiated directly, meaning you cannot create objects of an abstract class. Instead, it is designed to be inherited by other classes, which then provide concrete implementations for its abstract methods\n",
    "  And it must be instantiated using\n",
    "  `from abc import ABC, @bstractmethod`"
   ]
  },
  {
   "cell_type": "markdown",
   "id": "a431c046",
   "metadata": {},
   "source": [
    "### The 4 pillars of object-oriented programming (OOP) in Python (and generally in programming) are:\n",
    "\n",
    "1. Encapsulation: Bundling data (attributes) and methods (functions) that operate on the data into a single unit (class).\n",
    "2. Abstraction: Hiding complex implementation details and providing a simplified interface.\n",
    "3. Inheritance: Allowing a class to inherit attributes and methods from another class, promoting code reuse.\n",
    "4. Polymorphism: Using a single interface to represent different data types or objects."
   ]
  },
  {
   "cell_type": "markdown",
   "id": "11d303e9",
   "metadata": {},
   "source": [
    "### Creating Classes and objects with methods\n",
    "\n",
    "- __init__() is a special method that acts as a constructor. It is automatically called when an object is created from a class, and it initializes the object’s attributes.\n"
   ]
  },
  {
   "cell_type": "code",
   "execution_count": 1,
   "id": "0a0a5710",
   "metadata": {},
   "outputs": [
    {
     "name": "stdout",
     "output_type": "stream",
     "text": [
      "My name is Rodger\n",
      "My name is Tommy\n"
     ]
    }
   ],
   "source": [
    "class Dog:\n",
    "    # class attribute\n",
    "    attr1 = \"mammal\"\n",
    "    # Instance attribute\n",
    "    def __init__(self, name): #is the constructor here\n",
    "        self.name = name \n",
    "    def speak(self):\n",
    "        print(\"My name is {}\".format(self.name))\n",
    "# Driver code\n",
    "# Object instantiation\n",
    "Rodger = Dog(\"Rodger\")\n",
    "Tommy = Dog(\"Tommy\")\n",
    "# Accessing class methods\n",
    "Rodger.speak()\n",
    "Tommy.speak()"
   ]
  },
  {
   "cell_type": "code",
   "execution_count": 2,
   "id": "b0eac6bb",
   "metadata": {},
   "outputs": [
    {
     "name": "stdout",
     "output_type": "stream",
     "text": [
      "Hi, my name is Slim\n",
      "And my age is 45\n",
      "Hi, my name is Shady\n",
      "And my age is 45\n"
     ]
    }
   ],
   "source": [
    "#another code for __init__\n",
    "\n",
    "class Humans:\n",
    "    attribute_new = \"homo_sapiens\"  # Class attribute\n",
    "\n",
    "    def __init__(self, name, age):\n",
    "        self.name = name  # Instance attribute\n",
    "        self.age = age  # Instance attribute\n",
    "\n",
    "    def display_name(self):  # Method to display name\n",
    "        print(f'Hi, my name is {self.name}')\n",
    "\n",
    "    def display_age(self):  # Method to display age\n",
    "        print(f'And my age is {self.age}')\n",
    "\n",
    "# Creating objects and instantiating them:\n",
    "human_obj_1 = Humans(\"Slim\", 45)\n",
    "human_obj_1.display_name()\n",
    "human_obj_1.display_age()\n",
    "\n",
    "human_obj_2 = Humans(\"Shady\", 45)\n",
    "human_obj_2.display_name()\n",
    "human_obj_2.display_age()\n",
    "\n",
    "#note: there could be type error because, when keeping the same names for instance attributes and\n",
    "# method names and they must not be the same\n",
    "\n"
   ]
  },
  {
   "cell_type": "markdown",
   "id": "aa4275ed",
   "metadata": {},
   "source": [
    "### Types of Inheritance:\n",
    "\n",
    "1. Single Inheritance: A child class inherits from a single parent class.\n",
    "2. Multiple Inheritance: A child class inherits from more than one parent class.\n",
    "3. Multilevel Inheritance: A child class inherits from a parent class, which in turn inherits from another class.\n",
    "4. Hierarchical Inheritance: Multiple child classes inherit from a single parent class.\n",
    "5. Hybrid Inheritance: A combination of two or more types of inheritance."
   ]
  },
  {
   "cell_type": "code",
   "execution_count": 14,
   "id": "130799b7",
   "metadata": {},
   "outputs": [
    {
     "name": "stdout",
     "output_type": "stream",
     "text": [
      "leo the name of the animal\n",
      "A Generic sound which an animal makes\n"
     ]
    }
   ],
   "source": [
    "### Single Inheritance\n",
    "\n",
    "class Animal:\n",
    "    def __init__(self,name):\n",
    "        self.name=name\n",
    "        print(self.name,\"the name of the animal\")\n",
    "\n",
    "#method\n",
    "    def speak(self):\n",
    "        print(\"A Generic sound which an animal makes\")\n",
    "class Dog(Animal):\n",
    "    def __init__(self,name,breed,color):\n",
    "        super().__init__(name)\n",
    "        self.breed=breed\n",
    "        self.color=color\n",
    "\n",
    "    #behaviours of dog\n",
    "    def Make_sound(self):\n",
    "        print(\"DOG BARKS!!\")\n",
    "\n",
    "Dog1=Dog(\"leo\",\"husky\", \"red\")            \n",
    "Dog1.speak()"
   ]
  },
  {
   "cell_type": "code",
   "execution_count": 4,
   "id": "db161d8e",
   "metadata": {},
   "outputs": [
    {
     "name": "stdout",
     "output_type": "stream",
     "text": [
      "Rahul\n",
      "886012\n",
      "My name is Rahul\n",
      "IdNumber: 886012\n",
      "Post: Intern\n"
     ]
    }
   ],
   "source": [
    "### Multiple inheritance:\n",
    "\n",
    "# parent class\n",
    "class Person(): #or class Person(object)\n",
    "    # __init__ is known as the constructor\n",
    "    def __init__(self, name, idnumber):\n",
    "        self.name = name\n",
    "        self.idnumber = idnumber\n",
    "    def display(self):\n",
    "        print(self.name)\n",
    "        print(self.idnumber)       \n",
    "    def details(self):\n",
    "        print(\"My name is {}\".format(self.name))\n",
    "        print(\"IdNumber: {}\".format(self.idnumber))   \n",
    "# child class\n",
    "class Employee(Person):\n",
    "    def __init__(self, name, idnumber, salary, post):\n",
    "        self.salary = salary\n",
    "        self.post = post\n",
    "        # invoking the __init__ of the parent class\n",
    "        Person.__init__(self, name, idnumber)     \n",
    "    def details(self):\n",
    "        print(\"My name is {}\".format(self.name))\n",
    "        print(\"IdNumber: {}\".format(self.idnumber))\n",
    "        print(\"Post: {}\".format(self.post))\n",
    "# creation of an object variable or an instance\n",
    "a = Employee('Rahul', 886012, 200000, \"Intern\")\n",
    "# calling a function of the class Person using\n",
    "# its instance\n",
    "a.display()\n",
    "a.details()"
   ]
  },
  {
   "cell_type": "code",
   "execution_count": null,
   "id": "2b3d1e83",
   "metadata": {},
   "outputs": [
    {
     "name": "stdout",
     "output_type": "stream",
     "text": [
      "Class A\n",
      "Class B\n",
      "Class C\n",
      "Class D (Hybrid)\n"
     ]
    }
   ],
   "source": [
    "### Hybrid Inheritance:\n",
    "class A:\n",
    "    def show_A(self):\n",
    "        print(\"Class A\")\n",
    "\n",
    "class B(A):\n",
    "    def show_B(self):\n",
    "        print(\"Class B\")\n",
    "\n",
    "class C(A):\n",
    "    def show_C(self):\n",
    "        print(\"Class C\")\n",
    "\n",
    "class D(B, C):\n",
    "    def show_D(self):\n",
    "        print(\"Class D (Hybrid)\")\n",
    "\n",
    "d = D()\n",
    "d.show_A()\n",
    "d.show_B()\n",
    "d.show_C()\n",
    "d.show_D()"
   ]
  },
  {
   "cell_type": "code",
   "execution_count": 16,
   "id": "5b1596c4",
   "metadata": {},
   "outputs": [
    {
     "name": "stdout",
     "output_type": "stream",
     "text": [
      "I am the parent.\n",
      "I am the first child.\n",
      "I am the parent.\n",
      "I am the second child.\n"
     ]
    }
   ],
   "source": [
    "# Hierarchical Inheritance Example\n",
    "class Parent:\n",
    "    def show_parent(self):\n",
    "        print(\"I am the parent.\")\n",
    "\n",
    "class Child1(Parent):\n",
    "    def show_child1(self):\n",
    "        print(\"I am the first child.\")\n",
    "\n",
    "class Child2(Parent):\n",
    "    def show_child2(self):\n",
    "        print(\"I am the second child.\")\n",
    "\n",
    "c1 = Child1()\n",
    "c2 = Child2()\n",
    "c1.show_parent()\n",
    "c1.show_child1()\n",
    "c2.show_parent()\n",
    "c2.show_child2()"
   ]
  },
  {
   "cell_type": "code",
   "execution_count": 7,
   "id": "9a44300f",
   "metadata": {},
   "outputs": [
    {
     "name": "stdout",
     "output_type": "stream",
     "text": [
      "I am the grandparent.\n",
      "I am the parent.\n",
      "I am the child.\n"
     ]
    }
   ],
   "source": [
    "# Multilevel Inheritance Example\n",
    "class Grandparent:\n",
    "    def show_grandparent(self):\n",
    "        print(\"I am the grandparent.\")\n",
    "\n",
    "class Parent(Grandparent):\n",
    "    def show_parent(self):\n",
    "        print(\"I am the parent.\")\n",
    "\n",
    "class Child(Parent):\n",
    "    def show_child(self):\n",
    "        print(\"I am the child.\")\n",
    "\n",
    "c = Child()\n",
    "c.show_grandparent()\n",
    "c.show_parent()\n",
    "c.show_child()"
   ]
  },
  {
   "cell_type": "markdown",
   "id": "ad7a00df",
   "metadata": {},
   "source": [
    "### Polymorphism:"
   ]
  },
  {
   "cell_type": "code",
   "execution_count": 2,
   "id": "848348d3",
   "metadata": {},
   "outputs": [
    {
     "name": "stdout",
     "output_type": "stream",
     "text": [
      "Woof!\n",
      "Meow!\n"
     ]
    }
   ],
   "source": [
    "# Polymorphism Example\n",
    "\n",
    "class Animal:\n",
    "    def speak(self):\n",
    "        raise NotImplementedError(\"Subclass must implement this method\")\n",
    "\n",
    "class Dog(Animal):\n",
    "    def speak(self):\n",
    "        return \"Woof!\"\n",
    "\n",
    "class Cat(Animal):\n",
    "    def speak(self):\n",
    "        return \"Meow!\"\n",
    "\n",
    "def animal_sound(animal):\n",
    "    print(animal.speak())\n",
    "\n",
    "# Creating objects\n",
    "dog = Dog()\n",
    "cat = Cat()\n",
    "\n",
    "# Both objects use the same interface (speak), but output is different\n",
    "animal_sound(dog)  # Output: Woof!\n",
    "animal_sound(cat)  # Output: Meow!"
   ]
  },
  {
   "cell_type": "markdown",
   "id": "2bea3755",
   "metadata": {},
   "source": [
    "### ENCAPSULATION"
   ]
  },
  {
   "cell_type": "code",
   "execution_count": 1,
   "id": "6d4fb1a5",
   "metadata": {},
   "outputs": [
    {
     "name": "stdout",
     "output_type": "stream",
     "text": [
      "GeeksforGeeks\n"
     ]
    }
   ],
   "source": [
    "\n",
    "# Python program to\n",
    "# demonstrate private members\n",
    "# \"__\" double underscore represents private attribute. \n",
    "### Private attributes start with \"__\".\n",
    "# Creating a Base class\n",
    "class Base:\n",
    "    def __init__(self):\n",
    "        self.a = \"GeeksforGeeks\"\n",
    "        self.__c = \"GeeksforGeeks\" \n",
    "# Creating a derived class\n",
    "class Derived(Base):\n",
    "    def __init__(self):\n",
    "\n",
    "        # Calling constructor of\n",
    "        # Base class\n",
    "        Base.__init__(self)\n",
    "        print(\"Calling private member of base class: \")\n",
    "        print(self.__c)\n",
    "# Driver code\n",
    "obj1 = Base()\n",
    "print(obj1.a)\n",
    "\n",
    "# Uncommenting print(obj1.c) will\n",
    "# raise an AttributeError\n",
    "\n",
    "# Uncommenting obj2 = Derived() will\n",
    "# also raise an AtrributeError as\n",
    "# private member of base class\n",
    "# is called inside derived class"
   ]
  },
  {
   "cell_type": "markdown",
   "id": "d7138cce",
   "metadata": {},
   "source": [
    "#### Encapsulation with accessing private and public attributes"
   ]
  },
  {
   "cell_type": "code",
   "execution_count": 10,
   "id": "60288f02",
   "metadata": {},
   "outputs": [
    {
     "name": "stdout",
     "output_type": "stream",
     "text": [
      "public info Ravi\n",
      "Name of the Student is : Ravi\n",
      "Age of the Student is : 23\n",
      "Private Attibute can not be accessed \n",
      "Marks of Student is : 50\n",
      "New Marks has been Assigned\n",
      "Marks of Student is : 55\n"
     ]
    }
   ],
   "source": [
    "class Students:\n",
    "    def __init__(self, name, age,  marks):\n",
    "        self.name = name  #public \n",
    "        self._age = age    #protected\n",
    "        self.__marks = marks #private\n",
    "\n",
    "    # public methods\n",
    "    def display_info(self):\n",
    "        print(f\"Name of the Student is : {self.name}\")\n",
    "        print(f\"Age of the Student is : {self._age}\")\n",
    "\n",
    "    # Getter Method for private Attribute Access\n",
    "    def get_marks(self):\n",
    "        print(f\"Marks of Student is : {self.__marks}\")\n",
    "\n",
    "    # Setter Method for Private Attribute Modification\n",
    "    def set_marks(self,new_marks):\n",
    "        if 0<= new_marks <= 100:\n",
    "            self.__marks = new_marks\n",
    "            print(\"New Marks has been Assigned\")\n",
    "        else :\n",
    "            print(\"Invalid Input\")\n",
    "\n",
    "s1 = Students(\"Ravi\", 23, 50)\n",
    "\n",
    "# Print Public Attribute Data\n",
    "print(\"public info\",s1.name)\n",
    "\n",
    "# Display Protected\n",
    "s1.display_info()\n",
    "\n",
    "try :\n",
    "    print(\"Private : \", s1.__marks)\n",
    "except AttributeError :\n",
    "    print(\"Private Attibute can not be accessed \")\n",
    "\n",
    "# Method call for a get method\n",
    "s1.get_marks()\n",
    "\n",
    "# Method call for set method\n",
    "s1.set_marks(55)\n",
    "\n",
    "s1.get_marks()"
   ]
  },
  {
   "cell_type": "markdown",
   "id": "3b18260e",
   "metadata": {},
   "source": [
    "### ABSTRACTION:\n"
   ]
  },
  {
   "cell_type": "code",
   "execution_count": 11,
   "id": "588b86d2",
   "metadata": {},
   "outputs": [
    {
     "name": "stdout",
     "output_type": "stream",
     "text": [
      "Area: 15\n",
      "Perimeter: 16\n"
     ]
    }
   ],
   "source": [
    "class Rectangle:\n",
    "    def __init__(self, length, width):\n",
    "        self.__length = length  # Private attribute\n",
    "        self.__width = width    # Private attribute\n",
    "    def area(self):\n",
    "        return self.__length * self.__width\n",
    "    def perimeter(self):\n",
    "        return 2 * (self.__length + self.__width)\n",
    "\n",
    "rect = Rectangle(5, 3)\n",
    "print(f\"Area: {rect.area()}\")          # Output: Area: 15\n",
    "print(f\"Perimeter: {rect.perimeter()}\")  # Output: Perimeter: 16\n",
    "# print(rect.__length)  # This will raise an AttributeError as length and width are private attributes"
   ]
  },
  {
   "cell_type": "code",
   "execution_count": null,
   "id": "27715bf5",
   "metadata": {},
   "outputs": [
    {
     "name": "stdout",
     "output_type": "stream",
     "text": [
      "Serving dish: Margherita\n",
      "Margherita is baked at 220°C.\n",
      "Dough, cheese, tomato sauce, toppings\n",
      "Serving dish: Greek Salad\n",
      "Greek Salad is tossed and served cold.\n",
      "Lettuce, tomato, cucumber, dressing\n"
     ]
    }
   ],
   "source": [
    "from abc import ABC, abstractmethod\n",
    "\n",
    "class Dish(ABC): #Abstract base class, (inherits from ABC)\n",
    "    def __init__(self, name, price):\n",
    "        self._name = name\n",
    "        self._price = price\n",
    "\n",
    "    @abstractmethod #Decorator\n",
    "    def prepared_dish(self) -> str:\n",
    "        pass\n",
    "\n",
    "    @abstractmethod\n",
    "    def get_ingredients(self) -> str:\n",
    "        pass\n",
    "\n",
    "    def serve_dish(self):\n",
    "        return f\"Serving dish: {self._name}\"\n",
    "\n",
    "class Pizza(Dish):\n",
    "    def prepared_dish(self): # type: ignore\n",
    "        return f\"{self._name} is baked at 220°C.\"\n",
    "\n",
    "    def get_ingredients(self):\n",
    "        return \"Dough, cheese, tomato sauce, toppings\"\n",
    "\n",
    "class Salad(Dish):\n",
    "    def prepared_dish(self):\n",
    "        return f\"{self._name} is tossed and served cold.\"\n",
    "\n",
    "    def get_ingredients(self):\n",
    "        return \"Lettuce, tomato, cucumber, dressing\"\n",
    "\n",
    "# Usage\n",
    "pizza = Pizza(\"Margherita\", 250)\n",
    "salad = Salad(\"Greek Salad\", 150)\n",
    "\n",
    "print(pizza.serve_dish())\n",
    "print(pizza.prepared_dish())\n",
    "print(pizza.get_ingredients())\n",
    "\n",
    "print(salad.serve_dish())\n",
    "print(salad.prepared_dish())\n",
    "print(salad.get_ingredients())"
   ]
  },
  {
   "cell_type": "markdown",
   "id": "64fc3fa9",
   "metadata": {},
   "source": [
    "### Abstract Class"
   ]
  },
  {
   "cell_type": "code",
   "execution_count": null,
   "id": "a54bdfb8",
   "metadata": {},
   "outputs": [
    {
     "name": "stdout",
     "output_type": "stream",
     "text": [
      "Area of circle: 78.5\n",
      "Perimeter of circle: 31.400000000000002\n"
     ]
    }
   ],
   "source": [
    "from abc import ABC, abstractmethod\n",
    "\n",
    "class Shape(ABC):\n",
    "    @abstractmethod\n",
    "    def area(self) -> float:\n",
    "        pass\n",
    "\n",
    "    @abstractmethod\n",
    "    def perimeter(self) -> float:\n",
    "        pass\n",
    "\n",
    "class Circle(Shape):\n",
    "    def __init__(self, radius):\n",
    "        self.radius = radius\n",
    "\n",
    "    def area(self) -> float:\n",
    "        return 3.14 * self.radius * self.radius\n",
    "\n",
    "    def perimeter(self) -> float:\n",
    "        return 2 * 3.14 * self.radius\n",
    "\n",
    "# This will raise a TypeError because Shape is an abstract class\n",
    "# my_shape = Shape()\n",
    "\n",
    "my_circle = Circle(5)\n",
    "print(f\"Area of circle: {my_circle.area()}\")\n",
    "print(f\"Perimeter of circle: {my_circle.perimeter()}\")"
   ]
  },
  {
   "cell_type": "markdown",
   "id": "7a992eb0",
   "metadata": {},
   "source": [
    "### ✅ Class, Object, Constructor, Instance Variable\n"
   ]
  },
  {
   "cell_type": "code",
   "execution_count": 13,
   "id": "3a61a4eb",
   "metadata": {},
   "outputs": [
    {
     "name": "stdout",
     "output_type": "stream",
     "text": [
      "Hello, I am Sai and I am 20 years old.\n",
      "I'm Ravi, a student with ID: S123\n",
      "11\n",
      "This is MathTools class\n",
      "(4, 6)\n"
     ]
    }
   ],
   "source": [
    "class Person:\n",
    "    species = \"Human\"  # Class variable\n",
    "\n",
    "    def __init__(self, name, age):\n",
    "        self.name = name            # Instance variable\n",
    "        self.age = age\n",
    "\n",
    "    def greet(self):               # Instance method\n",
    "        print(f\"Hello, I am {self.name} and I am {self.age} years old.\")\n",
    "\n",
    "# Creating an object\n",
    "p1 = Person(\"Sai\", 20)\n",
    "p1.greet()\n",
    "\n",
    "# ✅ Inheritance\n",
    "class Student(Person):\n",
    "    def __init__(self, name, age, student_id):\n",
    "        super().__init__(name, age)\n",
    "        self.student_id = student_id\n",
    "\n",
    "    def greet(self):  # Polymorphism (method overriding)\n",
    "        print(f\"I'm {self.name}, a student with ID: {self.student_id}\")\n",
    "\n",
    "s1 = Student(\"Ravi\", 21, \"S123\")\n",
    "s1.greet()\n",
    "\n",
    "# ✅ Static and Class Methods\n",
    "class MathTools:\n",
    "    @staticmethod\n",
    "    def add(x, y):\n",
    "        return x + y\n",
    "\n",
    "    @classmethod\n",
    "    def info(cls):\n",
    "        return f\"This is {cls.__name__} class\"\n",
    "\n",
    "print(MathTools.add(5, 6))\n",
    "print(MathTools.info())\n",
    "\n",
    "# ✅ Dunder/Magic Method\n",
    "class Vector:\n",
    "    def __init__(self, x, y):\n",
    "        self.x = x\n",
    "        self.y = y\n",
    "\n",
    "    def __add__(self, other):  # Operator overloading\n",
    "        return Vector(self.x + other.x, self.y + other.y)\n",
    "\n",
    "    def __str__(self):\n",
    "        return f\"({self.x}, {self.y})\"\n",
    "\n",
    "v1 = Vector(1, 2)\n",
    "v2 = Vector(3, 4)\n",
    "print(v1 + v2)  # Output: (4, 6)\n",
    "\n",
    "\n",
    "\n",
    "\n",
    "\n"
   ]
  }
 ],
 "metadata": {
  "kernelspec": {
   "display_name": "Python 3",
   "language": "python",
   "name": "python3"
  },
  "language_info": {
   "codemirror_mode": {
    "name": "ipython",
    "version": 3
   },
   "file_extension": ".py",
   "mimetype": "text/x-python",
   "name": "python",
   "nbconvert_exporter": "python",
   "pygments_lexer": "ipython3",
   "version": "3.13.5"
  }
 },
 "nbformat": 4,
 "nbformat_minor": 5
}
