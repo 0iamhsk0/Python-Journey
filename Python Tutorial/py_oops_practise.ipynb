{
 "cells": [
  {
   "cell_type": "code",
   "execution_count": 3,
   "id": "237d0ef3",
   "metadata": {},
   "outputs": [
    {
     "name": "stdout",
     "output_type": "stream",
     "text": [
      "BMW\n",
      "Skoda\n"
     ]
    }
   ],
   "source": [
    "class Car:\n",
    "    def __init__(self, name, brand, model):\n",
    "        self.name = name\n",
    "        self.brand = brand\n",
    "        self.model = model\n",
    "\n",
    "supercar = Car(\"BMW\", \"Skoda\", \"Bentely\")\n",
    "print(supercar.name)\n",
    "print(supercar.brand)"
   ]
  },
  {
   "cell_type": "markdown",
   "id": "2ee2efed",
   "metadata": {},
   "source": [
    "### Inheritance - 1\n",
    "\n",
    "Create a class Appliance with brand and power consumption. Inherit Fan, AC, and Heater classes from it, each with a method show_details() displaying their specific features and inherited ones."
   ]
  },
  {
   "cell_type": "code",
   "execution_count": 1,
   "id": "2b85e79e",
   "metadata": {},
   "outputs": [
    {
     "name": "stdout",
     "output_type": "stream",
     "text": [
      "Appliance: Fan\n",
      "Brand: XYZ\n",
      "Power Consumption: 50 W\n",
      "Number of Blades: 3\n",
      "Appliance: AC\n",
      "Brand: ABC\n",
      "Power Consumption: 1500 W\n",
      "Cooling Capacity: 12000 BTU\n",
      "Appliance: Heater\n",
      "Brand: PQR\n",
      "Power Consumption: 1000 W\n",
      "Heating Power: 2000 W\n"
     ]
    }
   ],
   "source": [
    "class Appliance:\n",
    "    def __init__(self, brand, power_consumption):\n",
    "        self.brand = brand\n",
    "        self.power_consumption = power_consumption\n",
    "\n",
    "    def get_brand(self):\n",
    "        return self.brand\n",
    "\n",
    "    def get_power_consumption(self):\n",
    "        return self.power_consumption\n",
    "\n",
    "\n",
    "class Fan(Appliance):\n",
    "    def __init__(self, brand, power_consumption, num_blades):\n",
    "        super().__init__(brand, power_consumption)\n",
    "        self.num_blades = num_blades\n",
    "\n",
    "    def show_details(self):\n",
    "        print(\"Appliance: Fan\")\n",
    "        print(\"Brand:\", self.get_brand())\n",
    "        print(\"Power Consumption:\", self.get_power_consumption(), \"W\")\n",
    "        print(\"Number of Blades:\", self.num_blades)\n",
    "\n",
    "\n",
    "class AC(Appliance):\n",
    "    def __init__(self, brand, power_consumption, cooling_capacity):\n",
    "        super().__init__(brand, power_consumption)\n",
    "        self.cooling_capacity = cooling_capacity\n",
    "\n",
    "    def show_details(self):\n",
    "        print(\"Appliance: AC\")\n",
    "        print(\"Brand:\", self.get_brand())\n",
    "        print(\"Power Consumption:\", self.get_power_consumption(), \"W\")\n",
    "        print(\"Cooling Capacity:\", self.cooling_capacity, \"BTU\")\n",
    "\n",
    "\n",
    "class Heater(Appliance):\n",
    "    def __init__(self, brand, power_consumption, heating_power):\n",
    "        super().__init__(brand, power_consumption)\n",
    "        self.heating_power = heating_power\n",
    "\n",
    "    def show_details(self):\n",
    "        print(\"Appliance: Heater\")\n",
    "        print(\"Brand:\", self.get_brand())\n",
    "        print(\"Power Consumption:\", self.get_power_consumption(), \"W\")\n",
    "        print(\"Heating Power:\", self.heating_power, \"W\")\n",
    "\n",
    "\n",
    "# Example Usage\n",
    "fan = Fan(\"XYZ\", 50, 3)\n",
    "ac = AC(\"ABC\", 1500, 12000)\n",
    "heater = Heater(\"PQR\", 1000, 2000)\n",
    "\n",
    "fan.show_details()\n",
    "ac.show_details()\n",
    "heater.show_details()"
   ]
  },
  {
   "cell_type": "markdown",
   "id": "9e09d1b2",
   "metadata": {},
   "source": [
    "### inheritance - 2\n",
    "\n",
    "Create a class Person with attributes name and age. Inherit a class Student from Person that adds an attribute roll_number. Create an object of Student and display all its details."
   ]
  },
  {
   "cell_type": "code",
   "execution_count": 2,
   "id": "5c8a4ff4",
   "metadata": {},
   "outputs": [
    {
     "name": "stdout",
     "output_type": "stream",
     "text": [
      "Name: Alice\n",
      "Age: 20\n",
      "Roll Number: 12345\n"
     ]
    }
   ],
   "source": [
    "class Person:\n",
    "    def __init__(self, name, age):\n",
    "        self.name = name\n",
    "        self.age = age\n",
    "\n",
    "class Student(Person):\n",
    "    def __init__(self, name, age, roll_number):\n",
    "        super().__init__(name, age)\n",
    "        self.roll_number = roll_number\n",
    "\n",
    "student1 = Student(\"Alice\", 20, \"12345\")\n",
    "\n",
    "print(\"Name:\", student1.name)\n",
    "print(\"Age:\", student1.age)\n",
    "print(\"Roll Number:\", student1.roll_number)"
   ]
  },
  {
   "cell_type": "markdown",
   "id": "2bcd86f3",
   "metadata": {},
   "source": [
    "### Multilevel Inheritance\n",
    "\n",
    "Write a Simple code for multilevel Inheritance"
   ]
  },
  {
   "cell_type": "code",
   "execution_count": 3,
   "id": "0f1e913e",
   "metadata": {},
   "outputs": [
    {
     "name": "stdout",
     "output_type": "stream",
     "text": [
      "Buddy is eating.\n",
      "Buddy is giving birth.\n",
      "Buddy is barking.\n"
     ]
    }
   ],
   "source": [
    "class Animal:\n",
    "    def __init__(self, name):\n",
    "        self.name = name\n",
    "\n",
    "    def eat(self):\n",
    "        print(f\"{self.name} is eating.\")\n",
    "\n",
    "class Mammal(Animal):\n",
    "    def __init__(self, name, fur_color):\n",
    "        super().__init__(name)\n",
    "        self.fur_color = fur_color\n",
    "\n",
    "    def give_birth(self):\n",
    "        print(f\"{self.name} is giving birth.\")\n",
    "\n",
    "class Dog(Mammal):\n",
    "    def __init__(self, name, fur_color, breed):\n",
    "        super().__init__(name, fur_color)\n",
    "        self.breed = breed\n",
    "\n",
    "    def bark(self):\n",
    "        print(f\"{self.name} is barking.\")\n",
    "\n",
    "# Example usage\n",
    "my_dog = Dog(\"Buddy\", \"brown\", \"Golden Retriever\")\n",
    "my_dog.eat()        # Output: Buddy is eating.\n",
    "my_dog.give_birth() # Output: Buddy is giving birth.\n",
    "my_dog.bark()       # Output: Buddy is barking."
   ]
  },
  {
   "cell_type": "markdown",
   "id": "afacf497",
   "metadata": {},
   "source": [
    "### Inheritance (Implementing super)\n",
    "\n",
    "Create a class Account with a constructor that initializes balance. Inherit a class SavingsAccount that uses super() to call the parent constructor and adds interest_rate. Print all attributes."
   ]
  },
  {
   "cell_type": "code",
   "execution_count": 10,
   "id": "21f72748",
   "metadata": {},
   "outputs": [
    {
     "name": "stdout",
     "output_type": "stream",
     "text": [
      "Balance: 1000\n",
      "Interest Rate: 0.05\n"
     ]
    }
   ],
   "source": [
    "class Account:\n",
    "    def __init__(self, balance):\n",
    "        self.balance = balance\n",
    "\n",
    "class SavingsAccount(Account):\n",
    "    def __init__(self, balance, interest_rate):\n",
    "        super().__init__(balance)\n",
    "        self.interest_rate = interest_rate\n",
    "\n",
    "    def print_attributes(self):\n",
    "        print(f\"Balance: {self.balance}\")\n",
    "        print(f\"Interest Rate: {self.interest_rate:.2f}\")\n",
    "\n",
    "savings_account = SavingsAccount(1000, 0.05)\n",
    "savings_account.print_attributes()"
   ]
  },
  {
   "cell_type": "markdown",
   "id": "78a4cd5a",
   "metadata": {},
   "source": [
    "### Encapsulation - Private Data Access with Getter/Setter\n",
    "\n",
    "Create a class Account with a private attribute __balance. Create:\n",
    "1. A getter method get_balance()\n",
    "2. A setter method set_balance() that ensures balance cannot be negative\n",
    "  Create an object, try to access balance directly, then use methods instead."
   ]
  },
  {
   "cell_type": "code",
   "execution_count": 7,
   "id": "9de035a0",
   "metadata": {},
   "outputs": [
    {
     "name": "stdout",
     "output_type": "stream",
     "text": [
      "Current balance: 30\n",
      "Updated balance: 5000\n"
     ]
    }
   ],
   "source": [
    "class Account:\n",
    "    def __init__(self, initial_bal):\n",
    "        self.__initial_bal = initial_bal\n",
    "\n",
    "    # for fetching the private variable\n",
    "    def get_balance(self):\n",
    "        return self.__initial_bal\n",
    "    \n",
    "    # for setting new value for a private value\n",
    "    def set_balance(self, new_balance):\n",
    "        if new_balance >= 0:\n",
    "            self.__initial_bal = new_balance\n",
    "        else:\n",
    "            print(f\"New balance cannot be negative\")\n",
    "    \n",
    "bank_account = Account(30)\n",
    "print(\"Current balance:\", bank_account.get_balance())\n",
    "bank_account.set_balance(5000)\n",
    "print(\"Updated balance:\", bank_account.get_balance())\n",
    "    "
   ]
  },
  {
   "cell_type": "markdown",
   "id": "b22e3ca4",
   "metadata": {},
   "source": [
    "### Encapsulation Real-life: ATM\n",
    "\n",
    "Design a class ATM: \n",
    "\n",
    "Private balance \n",
    "\n",
    "Method Withdraw (if sufficient balance) \n",
    "\n",
    "Method to deposit \n",
    "\n",
    "Method to check balance \n",
    "\n",
    "Use proper validation inside deposit and withdraw methods. "
   ]
  },
  {
   "cell_type": "code",
   "execution_count": 16,
   "id": "a02b5a61",
   "metadata": {},
   "outputs": [
    {
     "name": "stdout",
     "output_type": "stream",
     "text": [
      "Deposit successful.\n",
      "Current balance: 600\n",
      "Withdrawal successful.\n",
      "Current balance: 550\n",
      "Withdrawal successful.\n"
     ]
    }
   ],
   "source": [
    "class ATM:\n",
    "    def __init__(self, balance):\n",
    "        self.__balance = balance\n",
    "\n",
    "    def withdraw(self, amount):\n",
    "        if amount > 0:\n",
    "            if amount <= self.__balance:\n",
    "                self.__balance -= amount\n",
    "                print(\"Withdrawal successful.\")\n",
    "            else:\n",
    "                print(\"Insufficient balance.\")\n",
    "        else:\n",
    "            print(\"Invalid withdrawal amount.\")\n",
    "\n",
    "    def deposit(self, amount):\n",
    "        if amount > 0:\n",
    "            self.__balance += amount\n",
    "            print(\"Deposit successful.\")\n",
    "        else:\n",
    "            print(\"Invalid deposit amount.\")\n",
    "\n",
    "    def check_balance(self):\n",
    "        print(f\"Current balance: {self.__balance}\")\n",
    "\n",
    "\n",
    "my_atm = ATM(500)\n",
    "my_atm.deposit(100)     \n",
    "my_atm.check_balance() \n",
    "\n",
    "my_atm.withdraw(50)   \n",
    "my_atm.check_balance()  \n",
    "\n",
    "my_atm.withdraw(100)    \n",
    "\n"
   ]
  },
  {
   "cell_type": "markdown",
   "id": "399bfc11",
   "metadata": {},
   "source": [
    "### Polymorphism -1 \n",
    "\n",
    "Create a base class BankAccount with private attributes __account_holder and __balance. Provide getter methods and a method account_type() that is meant to be overridden.  \n",
    "\n",
    "Create two subclasses SavingsAccount and CurrentAccount that override account_type() to print their respective account types.\n",
    "\n",
    "Call account_type() on objects of both subclasses in a loop."
   ]
  },
  {
   "cell_type": "code",
   "execution_count": 1,
   "id": "fc99d4d6",
   "metadata": {},
   "outputs": [
    {
     "name": "stdout",
     "output_type": "stream",
     "text": [
      "Alice has a Savings Account with balance INR5000\n",
      "Bob has a Current Account with balance INR10000\n"
     ]
    }
   ],
   "source": [
    "class BankAccount:\n",
    "    def __init__(self, account_holder, balance):\n",
    "        self.__account_holder = account_holder\n",
    "        self.__balance = balance\n",
    "        pass\n",
    "\n",
    "    def get_balance(self):\n",
    "        return self.__balance\n",
    "    \n",
    "    def get_account_holder(self):\n",
    "        return self.__account_holder\n",
    "    \n",
    "    def account_type(self):\n",
    "        pass\n",
    "\n",
    "class SavingsAccount(BankAccount):\n",
    "    def account_type(self):\n",
    "        print(f\"{self.get_account_holder()} has a Savings Account with balance INR{self.get_balance()}\")\n",
    "\n",
    "\n",
    "class CurrentAccount(BankAccount):\n",
    "    def account_type(self):\n",
    "        print(f\"{self.get_account_holder()} has a Current Account with balance INR{self.get_balance()}\")\n",
    "\n",
    "\n",
    "\n",
    "# Create objects of both subclasses\n",
    "accounts = [\n",
    "    SavingsAccount(\"Alice\", 5000),\n",
    "    CurrentAccount(\"Bob\", 10000)\n",
    "]\n",
    "\n",
    "for account in accounts:\n",
    "    account.account_type()\n"
   ]
  },
  {
   "cell_type": "markdown",
   "id": "1718a817",
   "metadata": {},
   "source": [
    "### Polymorphism - 2\n",
    "\n",
    "Create a class Shape with a private attribute __color and a method get_color(). \n",
    "\n",
    "Create two child classes Circle and Square, each with its own area() method. \n",
    "\n",
    "Write a function print_area(shape) that prints area of any shape passed to it."
   ]
  },
  {
   "cell_type": "code",
   "execution_count": null,
   "id": "3c393648",
   "metadata": {},
   "outputs": [
    {
     "name": "stdout",
     "output_type": "stream",
     "text": [
      "The color of the shape is Red\n",
      "The area of the shape is 78.5\n",
      "The color of the shape is Blue\n",
      "The area of the shape is 16\n"
     ]
    }
   ],
   "source": [
    "class Shape:\n",
    "    def __init__(self, color):\n",
    "        self.__color = color\n",
    "        pass\n",
    "\n",
    "    def get_color(self):\n",
    "        return self.__color\n",
    "\n",
    "class Circle(Shape):\n",
    "    def __init__(self, color, radius):\n",
    "        super().__init__(color)\n",
    "        self.radius = radius\n",
    "\n",
    "    def area(self):\n",
    "        return 3.14 * self.radius ** 2\n",
    "\n",
    "class Square(Shape):\n",
    "    def __init__(self, color, side):\n",
    "        super().__init__(color)\n",
    "        self.side = side\n",
    "\n",
    "    def area(self):\n",
    "        return self.side * self.side\n",
    "\n",
    "def print_area(shape):\n",
    "    print(f\"The color of the shape is {shape.get_color()}\")\n",
    "    print(f\"The area of the shape is {shape.area()}\")\n",
    "\n",
    "\n",
    "print_area(Circle(\"Red\", 5))\n",
    "print_area(Square(\"Blue\", 4))\n"
   ]
  },
  {
   "cell_type": "code",
   "execution_count": null,
   "id": "f7ba1aaf",
   "metadata": {},
   "outputs": [],
   "source": []
  }
 ],
 "metadata": {
  "kernelspec": {
   "display_name": "Python 3",
   "language": "python",
   "name": "python3"
  },
  "language_info": {
   "codemirror_mode": {
    "name": "ipython",
    "version": 3
   },
   "file_extension": ".py",
   "mimetype": "text/x-python",
   "name": "python",
   "nbconvert_exporter": "python",
   "pygments_lexer": "ipython3",
   "version": "3.13.5"
  }
 },
 "nbformat": 4,
 "nbformat_minor": 5
}
