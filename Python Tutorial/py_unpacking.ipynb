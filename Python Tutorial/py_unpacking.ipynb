{
 "cells": [
  {
   "cell_type": "code",
   "execution_count": null,
   "id": "0afd2dab",
   "metadata": {},
   "outputs": [
    {
     "name": "stdout",
     "output_type": "stream",
     "text": [
      "10 20 30\n",
      "1\n",
      "[2, 3, 4]\n",
      "5\n",
      "[2, 3, 4]\n",
      "A B C\n",
      "b a c\n",
      "name\n",
      "age\n",
      "dept\n",
      "name age dept\n",
      "Alice 25 CS\n",
      "name: Alice\n",
      "age: 25\n",
      "dept: CS\n",
      "Hello Bob from ECE department!\n",
      "Alice 21 CS\n",
      "x: 1, y: 2\n",
      "x: 3, y: 4\n",
      "x: 5, y: 6\n",
      "[1, 2, 3, 4, 5, 6]\n",
      "{'x': 1, 'y': 100, 'z': 3}\n"
     ]
    }
   ],
   "source": [
    "# 📘 PYTHON UNPACKING - BASIC TO ADVANCED\n",
    "\n",
    "# ✅ 1. LIST & TUPLE UNPACKING\n",
    "data = [10, 20, 30]\n",
    "a, b, c = data\n",
    "print(a, b, c)  # 10 20 30\n",
    "\n",
    "# ✅ 2. EXTENDED UNPACKING WITH * (list, tuple, string)\n",
    "numbers = [1, 2, 3, 4, 5]\n",
    "a, *b, c = numbers\n",
    "print(a)  # 1\n",
    "print(b)  # [2, 3, 4]\n",
    "print(c)  # 5\n",
    "S\n",
    "# 🧠 Works with tuples too:\n",
    "values = (1, 2, 3, 4, 5)\n",
    "x, *y, z = values\n",
    "print(y)  # [2, 3, 4]\n",
    "\n",
    "# ✅ 3. UNPACKING STRINGS\n",
    "s = \"ABC\"\n",
    "a, b, c = s\n",
    "print(a, b, c)  # A B C\n",
    "\n",
    "# ✅ 4. UNPACKING SETS (⚠ unordered!)\n",
    "# Can't reliably unpack more than one value in a specific order\n",
    "s = {\"a\", \"b\", \"c\"}\n",
    "a, b, c = s\n",
    "print(a, b, c)  # Order may vary\n",
    "\n",
    "# ✅ 5. UNPACKING DICTIONARIES\n",
    "my_dict = {\"name\": \"Alice\", \"age\": 25, \"dept\": \"CS\"}\n",
    "\n",
    "# By default, unpacking gives you keys\n",
    "for key in my_dict:\n",
    "    print(key)  # name, age, dept\n",
    "\n",
    "# Unpacking keys into variables\n",
    "k1, k2, k3 = my_dict\n",
    "print(k1, k2, k3)  # name age dept\n",
    "\n",
    "# To get values:\n",
    "v1, v2, v3 = my_dict.values()\n",
    "print(v1, v2, v3)  # Alice 25 CS\n",
    "\n",
    "# To get items:\n",
    "for k, v in my_dict.items():\n",
    "    print(f\"{k}: {v}\")\n",
    "\n",
    "# ✅ 6. UNPACKING WITH **\n",
    "# For unpacking dictionaries into function arguments\n",
    "\n",
    "def greet(name, dept):\n",
    "    print(f\"Hello {name} from {dept} department!\")\n",
    "\n",
    "data = {\"name\": \"Bob\", \"dept\": \"ECE\"}\n",
    "greet(**data)  # Automatically fills name and dept\n",
    "\n",
    "# ✅ 7. NESTED UNPACKING\n",
    "student = (\"Alice\", (21, \"CS\"))\n",
    "name, (age, dept) = student\n",
    "print(name, age, dept)  # Alice 21 CS\n",
    "\n",
    "# ✅ 8. UNPACKING IN LOOPS\n",
    "points = [(1, 2), (3, 4), (5, 6)]\n",
    "for x, y in points:\n",
    "    print(f\"x: {x}, y: {y}\")\n",
    "\n",
    "# ✅ 9. MERGING WITH * and **\n",
    "# Merging lists:\n",
    "a = [1, 2, 3]\n",
    "b = [4, 5, 6]\n",
    "merged = [*a, *b]\n",
    "print(merged)  # [1, 2, 3, 4, 5, 6]\n",
    "\n",
    "# Merging dicts:\n",
    "d1 = {\"x\": 1, \"y\": 2}\n",
    "d2 = {\"y\": 100, \"z\": 3}\n",
    "merged = {**d1, **d2}\n",
    "print(merged)  # {'x': 1, 'y': 100, 'z': 3}\n"
   ]
  },
  {
   "cell_type": "code",
   "execution_count": 3,
   "id": "cbef099b",
   "metadata": {},
   "outputs": [
    {
     "name": "stdout",
     "output_type": "stream",
     "text": [
      "1\n",
      "2\n",
      "[3, 4, 5]\n"
     ]
    }
   ],
   "source": [
    "values = (1, 2, 3, 4, 5)\n",
    "x, y, *z = values\n",
    "print(x)  # [2, 3, 4]\n",
    "print(y)\n",
    "print(z)"
   ]
  },
  {
   "cell_type": "markdown",
   "id": "e2030d38",
   "metadata": {},
   "source": []
  }
 ],
 "metadata": {
  "kernelspec": {
   "display_name": "Python 3",
   "language": "python",
   "name": "python3"
  },
  "language_info": {
   "codemirror_mode": {
    "name": "ipython",
    "version": 3
   },
   "file_extension": ".py",
   "mimetype": "text/x-python",
   "name": "python",
   "nbconvert_exporter": "python",
   "pygments_lexer": "ipython3",
   "version": "3.13.5"
  }
 },
 "nbformat": 4,
 "nbformat_minor": 5
}
