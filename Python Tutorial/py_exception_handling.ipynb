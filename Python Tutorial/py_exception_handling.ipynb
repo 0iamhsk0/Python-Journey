{
 "cells": [
  {
   "cell_type": "markdown",
   "id": "d6d7c704",
   "metadata": {},
   "source": [
    "## Exception Handling\n",
    "\n",
    "Exception handling allows to respond to the error, instead of crashing the running program."
   ]
  },
  {
   "cell_type": "raw",
   "id": "6d1b9af9",
   "metadata": {
    "vscode": {
     "languageId": "raw"
    }
   },
   "source": [
    "try:\n",
    "      # Code that might raise an exception\n",
    "except SomeException:\n",
    "      # Code to handle the exception\n",
    "else:\n",
    "     # Code to run if no exception occurs\n",
    "finally:\n",
    "    # Code to run regardless of whether an exception occurs"
   ]
  },
  {
   "cell_type": "code",
   "execution_count": 5,
   "id": "1c13b3c1",
   "metadata": {},
   "outputs": [
    {
     "name": "stdout",
     "output_type": "stream",
     "text": [
      "Division successful! Result is: 5.0\n",
      "This block always executes (cleanup, logging, etc.)\n",
      "Caught an exception: Denominator cannot be zero!\n",
      "This block always executes (cleanup, logging, etc.)\n",
      "Both arguments must be numbers!\n",
      "This block always executes (cleanup, logging, etc.)\n"
     ]
    }
   ],
   "source": [
    "# Demonstration of try, except, else, finally, and raise\n",
    "\n",
    "def divide(a, b):\n",
    "    try:\n",
    "        if b == 0:\n",
    "            raise ZeroDivisionError(\"Denominator cannot be zero!\")  # Manually raising an exception\n",
    "        result = a / b\n",
    "    except ZeroDivisionError as e:\n",
    "        print(\"Caught an exception:\", e)\n",
    "    except TypeError:\n",
    "        print(\"Both arguments must be numbers!\")\n",
    "    else:\n",
    "        print(\"Division successful! Result is:\", result)\n",
    "    finally:\n",
    "        print(\"This block always executes (cleanup, logging, etc.)\")\n",
    "\n",
    "# Test cases\n",
    "divide(10, 2)   # Normal division\n",
    "divide(10, 0)   # Triggers raise and except\n",
    "divide(10, 'a') #"
   ]
  }
 ],
 "metadata": {
  "kernelspec": {
   "display_name": "Python 3",
   "language": "python",
   "name": "python3"
  },
  "language_info": {
   "codemirror_mode": {
    "name": "ipython",
    "version": 3
   },
   "file_extension": ".py",
   "mimetype": "text/x-python",
   "name": "python",
   "nbconvert_exporter": "python",
   "pygments_lexer": "ipython3",
   "version": "3.13.5"
  }
 },
 "nbformat": 4,
 "nbformat_minor": 5
}
