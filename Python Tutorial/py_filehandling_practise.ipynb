{
 "cells": [
  {
   "cell_type": "markdown",
   "id": "c19ccacf",
   "metadata": {},
   "source": [
    "### Data file handling Basics \n",
    "\n",
    "1. Accept 3 lines from user and save to user_input.txt\n",
    "2. Read and display content of user_input.txt\n",
    "3. Append data in the file to log.txt"
   ]
  },
  {
   "cell_type": "code",
   "execution_count": 4,
   "id": "d894a4d1",
   "metadata": {},
   "outputs": [
    {
     "name": "stdout",
     "output_type": "stream",
     "text": [
      "\n",
      "The conents of user input file are: \n",
      "hi\n",
      "my\n",
      "name is\n",
      "\n"
     ]
    }
   ],
   "source": [
    "# 1. Write three lines\n",
    "with open(\"user_input.txt\", \"w+\") as q1:\n",
    "    for i in range(1, 4):\n",
    "        lines = input(f\"Enter line {i}: \")\n",
    "        q1.write(lines + \"\\n\")\n",
    "\n",
    "# 2. Read and display\n",
    "with open(\"user_input.txt\", \"r+\") as q1:\n",
    "    content = q1.read()\n",
    "    print(f\"\\nThe conents of user input file are: \")\n",
    "    print(content)\n",
    "\n",
    "# 3. Append data in the file to log.txt\n",
    "with open(\"user_input.txt\", \"r\") as source, open(\"log.txt\", \"a\") as dest:\n",
    "    dest.write(source.read())\n",
    "\n"
   ]
  },
  {
   "cell_type": "markdown",
   "id": "7b90d071",
   "metadata": {},
   "source": [
    "### Student Report Card System\n",
    "\n",
    "- All entries\n",
    "- The total number of students\n",
    "- The average marks"
   ]
  },
  {
   "cell_type": "code",
   "execution_count": 5,
   "id": "d6c93546",
   "metadata": {},
   "outputs": [
    {
     "name": "stdout",
     "output_type": "stream",
     "text": [
      "All Student Entries:\n",
      "Name: Alice, Marks: 85\n",
      "Name: Bob, Marks: 92\n",
      "Name: Charlie, Marks: 78\n",
      "Name: David, Marks: 88\n",
      "Name: Eva, Marks: 95\n",
      "\n",
      "Total number of students: 5\n",
      "Average marks: 87.6\n"
     ]
    }
   ],
   "source": [
    "students = [\n",
    "    (\"Alice\", 85),\n",
    "    (\"Bob\", 92),\n",
    "    (\"Charlie\", 78),\n",
    "    (\"David\", 88),\n",
    "    (\"Eva\", 95)\n",
    "]\n",
    "\n",
    "print(\"All Student Entries:\")\n",
    "for name, marks in students:\n",
    "    print(f\"Name: {name}, Marks: {marks}\")\n",
    "\n",
    "total_students = len(students)\n",
    "print(\"\\nTotal number of students:\", total_students)\n",
    "\n",
    "average_marks = sum(marks for _, marks in students) / total_students\n",
    "print(\"Average marks:\", average_marks)\n"
   ]
  },
  {
   "cell_type": "markdown",
   "id": "f9d2c70b",
   "metadata": {
    "vscode": {
     "languageId": "plaintext"
    }
   },
   "source": [
    "### Bank Withdrawal Simulation\n",
    "\n",
    "Simulate a bank withdrawal system:\n",
    "- Ask for balance and withdrawal amount\n",
    "- Use try-except-finally to handle it gracefully and always show final balance"
   ]
  },
  {
   "cell_type": "code",
   "execution_count": 1,
   "id": "4c4dbc1b",
   "metadata": {},
   "outputs": [
    {
     "name": "stdout",
     "output_type": "stream",
     "text": [
      "Withdrawal successful! New balance: 1000.0\n",
      "Final balance: 1000.0\n"
     ]
    }
   ],
   "source": [
    "try:\n",
    "    balance = float(input(\"Enter your account balance: \"))\n",
    "    withdrawal = float(input(\"Enter withdrawal amount: \"))\n",
    "    if withdrawal > balance:\n",
    "        raise ValueError(\"Insufficient balance.\")\n",
    "    balance -= withdrawal\n",
    "    print(f\"Withdrawal successful! New balance: {balance}\")\n",
    "except ValueError as ve:\n",
    "    print(\"Error:\", ve)\n",
    "finally:\n",
    "    print(f\"Final balance: {balance if 'balance' in locals() else 'N/A'}\")\n"
   ]
  },
  {
   "cell_type": "markdown",
   "id": "63ccd76b",
   "metadata": {},
   "source": [
    "### Nested Try-Except for List Index\n",
    "\n",
    "Task:\n",
    "- Ask the user to input an index\n",
    "- Access that index from a predefined list\n",
    "- Handle IndexError and ValueError using nested try blocks\n",
    "- Print “End of program” using finally"
   ]
  },
  {
   "cell_type": "markdown",
   "id": "e1c2a9bf",
   "metadata": {},
   "source": []
  },
  {
   "cell_type": "code",
   "execution_count": 2,
   "id": "5aee1962",
   "metadata": {},
   "outputs": [
    {
     "name": "stdout",
     "output_type": "stream",
     "text": [
      "Value at index 4 is 50\n",
      "End of program\n"
     ]
    }
   ],
   "source": [
    "lst = [10, 20, 30, 40, 50]\n",
    "try:\n",
    "    idx_input = input(\"Enter an index to access from the list: \")\n",
    "    try:\n",
    "        idx = int(idx_input)\n",
    "        print(\"Value at index\", idx, \"is\", lst[idx])\n",
    "    except ValueError:\n",
    "        print(\"Invalid input! Please enter a valid integer index.\")\n",
    "    except IndexError:\n",
    "        print(\"Index out of range! Please enter a valid index.\")\n",
    "finally:\n",
    "    print(\"End of program\")\n"
   ]
  },
  {
   "cell_type": "markdown",
   "id": "489eee73",
   "metadata": {},
   "source": []
  }
 ],
 "metadata": {
  "kernelspec": {
   "display_name": "Python 3",
   "language": "python",
   "name": "python3"
  },
  "language_info": {
   "codemirror_mode": {
    "name": "ipython",
    "version": 3
   },
   "file_extension": ".py",
   "mimetype": "text/x-python",
   "name": "python",
   "nbconvert_exporter": "python",
   "pygments_lexer": "ipython3",
   "version": "3.13.3"
  }
 },
 "nbformat": 4,
 "nbformat_minor": 5
}
