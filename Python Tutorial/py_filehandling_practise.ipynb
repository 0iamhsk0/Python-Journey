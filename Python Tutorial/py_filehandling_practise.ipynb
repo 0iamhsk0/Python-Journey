{
 "cells": [
  {
   "cell_type": "markdown",
   "id": "c19ccacf",
   "metadata": {},
   "source": [
    "### Data file handling Basics \n",
    "\n",
    "1. Accept 3 lines from user and save to user_input.txt\n",
    "2. Read and display content of user_input.txt\n",
    "3. Append data in the file to log.txt"
   ]
  },
  {
   "cell_type": "markdown",
   "id": "d894a4d1",
   "metadata": {},
   "source": []
  },
  {
   "cell_type": "markdown",
   "id": "7b90d071",
   "metadata": {},
   "source": [
    "### Student Report Card System\n",
    "\n",
    "- All entries\n",
    "- The total number of students\n",
    "- The average marks"
   ]
  },
  {
   "cell_type": "code",
   "execution_count": null,
   "id": "d6c93546",
   "metadata": {},
   "outputs": [],
   "source": []
  },
  {
   "cell_type": "markdown",
   "id": "f9d2c70b",
   "metadata": {
    "vscode": {
     "languageId": "plaintext"
    }
   },
   "source": [
    "### Bank Withdrawal Simulation\n",
    "\n",
    "Simulate a bank withdrawal system:\n",
    "- Ask for balance and withdrawal amount\n",
    "- Use try-except-finally to handle it gracefully and always show final balance"
   ]
  },
  {
   "cell_type": "code",
   "execution_count": null,
   "id": "4c4dbc1b",
   "metadata": {},
   "outputs": [],
   "source": []
  },
  {
   "cell_type": "markdown",
   "id": "63ccd76b",
   "metadata": {},
   "source": [
    "### Nested Try-Except for List Index\n",
    "\n",
    "Task:\n",
    "- Ask the user to input an index\n",
    "- Access that index from a predefined list\n",
    "- Handle IndexError and ValueError using nested try blocks\n",
    "- Print “End of program” using finally"
   ]
  },
  {
   "cell_type": "markdown",
   "id": "e1c2a9bf",
   "metadata": {},
   "source": []
  },
  {
   "cell_type": "code",
   "execution_count": null,
   "id": "5aee1962",
   "metadata": {},
   "outputs": [],
   "source": []
  },
  {
   "cell_type": "markdown",
   "id": "489eee73",
   "metadata": {},
   "source": []
  }
 ],
 "metadata": {
  "language_info": {
   "name": "python"
  }
 },
 "nbformat": 4,
 "nbformat_minor": 5
}
