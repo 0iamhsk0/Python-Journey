{
 "cells": [
  {
   "cell_type": "markdown",
   "id": "ead31ec3",
   "metadata": {},
   "source": [
    "In Python Arbitrary Keyword Arguments, `*args, and **kwargs` can pass a variable number of arguments to a function using special symbols. There are two special symbols:\n",
    "\n",
    "- `*args` in Python (Non-Keyword Arguments)(Positional)\n",
    "\n",
    "- `**kwargs` in Python (Keyword Arguments)\n"
   ]
  },
  {
   "cell_type": "markdown",
   "id": "cc30a14c",
   "metadata": {},
   "source": [
    "\n",
    "Example 1: Variable length **non-keywords** argument"
   ]
  },
  {
   "cell_type": "code",
   "execution_count": 3,
   "id": "3dc10054",
   "metadata": {},
   "outputs": [
    {
     "name": "stdout",
     "output_type": "stream",
     "text": [
      "Hello\n",
      "Welcome\n",
      "to\n",
      "GeeksforGeeks\n"
     ]
    }
   ],
   "source": [
    "def myFun(*argv):\n",
    "    for arg in argv:\n",
    "        print(arg)\n",
    "\n",
    "\n",
    "myFun('Hello', 'Welcome', 'to', 'GeeksforGeeks')"
   ]
  },
  {
   "cell_type": "markdown",
   "id": "4e8feabd",
   "metadata": {},
   "source": [
    "Example 2: Variable length **keyword** arguments"
   ]
  },
  {
   "cell_type": "code",
   "execution_count": 2,
   "id": "09c42218",
   "metadata": {},
   "outputs": [
    {
     "name": "stdout",
     "output_type": "stream",
     "text": [
      "first == Geeks\n",
      "mid == for\n",
      "last == Geeks\n"
     ]
    }
   ],
   "source": [
    "def myFun(**kwargs):\n",
    "    for key, value in kwargs.items():\n",
    "        print(\"%s == %s\" % (key, value))\n",
    "\n",
    "\n",
    "myFun(first='Geeks', mid='for', last='Geeks')"
   ]
  }
 ],
 "metadata": {
  "kernelspec": {
   "display_name": "Python 3",
   "language": "python",
   "name": "python3"
  },
  "language_info": {
   "codemirror_mode": {
    "name": "ipython",
    "version": 3
   },
   "file_extension": ".py",
   "mimetype": "text/x-python",
   "name": "python",
   "nbconvert_exporter": "python",
   "pygments_lexer": "ipython3",
   "version": "3.13.5"
  }
 },
 "nbformat": 4,
 "nbformat_minor": 5
}
