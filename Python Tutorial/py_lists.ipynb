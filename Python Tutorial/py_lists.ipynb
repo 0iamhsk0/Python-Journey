{
 "cells": [
  {
   "cell_type": "markdown",
   "id": "a7d7bcf6",
   "metadata": {},
   "source": [
    "### what are lists?\n",
    "1. Lists are built in dynamic sized Py Array - Data structures\n",
    "2. lists are basically structured data structures in python, they are heterogeneous, ordered, mutable and can also contain dups"
   ]
  },
  {
   "cell_type": "code",
   "execution_count": 1,
   "id": "b22e3616",
   "metadata": {},
   "outputs": [
    {
     "name": "stdout",
     "output_type": "stream",
     "text": [
      "[1, 2, 3, 4, 5]\n",
      "<class 'list'>\n"
     ]
    }
   ],
   "source": [
    "lst = [1,2,3,4,5]\n",
    "print(lst)\n",
    "print(type(lst))"
   ]
  },
  {
   "cell_type": "code",
   "execution_count": null,
   "id": "f32a27ab",
   "metadata": {
    "vscode": {
     "languageId": "latex"
    }
   },
   "outputs": [
    {
     "ename": "SyntaxError",
     "evalue": "invalid syntax (1216176414.py, line 1)",
     "output_type": "error",
     "traceback": [
      "  \u001b[36mCell\u001b[39m\u001b[36m \u001b[39m\u001b[32mIn[13]\u001b[39m\u001b[32m, line 1\u001b[39m\n\u001b[31m    \u001b[39m\u001b[31m1. Appending\u001b[39m\n       ^\n\u001b[31mSyntaxError\u001b[39m\u001b[31m:\u001b[39m invalid syntax\n"
     ]
    }
   ],
   "source": [
    "lst = [1,2,3,4]\n",
    "\n",
    "1. Appending\n",
    "   lst.append(\"...\")  # Adds an element to the end of the list\n",
    "\n",
    "2. Removing\n",
    "   lst.remove(\"...\")  # Removes the first occurrence of the element\n",
    "\n",
    "3. Length\n",
    "   len(lst)  # Correct way to get the length of a list (not lst.length)\n",
    "\n",
    "4. Sorting\n",
    "   sorted(lst)         # Returns a new sorted list (original remains unchanged)\n",
    "   lst.sort()          # Sorts the list in place (permanent)\n",
    "   lst.sort(reverse=True)  # Sort in descending order\n",
    "   lst.sort(key=len)       # Sort by length (for strings or nested lists)\n",
    "\n",
    "5. Find Index\n",
    "   lst.index(\"...\")    # Returns the first index of the specified value\n",
    "\n",
    "6. Count\n",
    "   lst.count(\"...\")    # Returns the number of occurrences of a value\n",
    "\n",
    "7. Extending the list\n",
    "   lst.extend([...])   # Adds all elements of an iterable to the list\n",
    "\n",
    "8. Minimum and Maximum\n",
    "   min(lst)\n",
    "   max(lst)\n",
    "\n",
    "9. Popping Elements\n",
    "   lst.pop()           # Removes and returns the last item\n",
    "   lst.pop(index)      # Removes and returns the item at the specified index\n",
    "\n",
    "10. Reversing\n",
    "\n",
    "    a = [1, 2, 34, 4]\n",
    "\n",
    "    # Method 1: In-place reverse\n",
    "    a.reverse()  \n",
    "    print(a)  # [4, 34, 2, 1]\n",
    "\n",
    "    # Method 2: Using reversed() - returns an iterator\n",
    "    rev = list(reversed(a))\n",
    "    print(rev)\n",
    "\n",
    "    # Method 3: Slicing\n",
    "    rev = a[::-1]\n",
    "    print(rev)\n",
    "\n",
    "    # Method 4: Manual swap using loop (e.g., subarray reverse)\n",
    "    a = [1, 2, 3, 4, 5, 6, 7, 8, 9, 10]\n",
    "    start, end = 2, 6\n",
    "    while start < end:\n",
    "        a[start], a[end] = a[end], a[start]\n",
    "        start += 1\n",
    "        end -= 1\n",
    "    print(a)\n",
    "\n",
    "    # Method 5: List comprehension\n",
    "    rev = [a[i] for i in range(len(a) - 1, -1, -1)]\n",
    "    print(rev)\n",
    "\n",
    "    # Best methods:\n",
    "    # 1. list slicing\n",
    "    # 2. .reverse()\n",
    "    # These are fast and don’t create a new list (unless slicing is used to assign to another variable)\n",
    "\n",
    "11. Iteration\n",
    "\n",
    "    for i in lst:\n",
    "        print(i)\n",
    "\n",
    "    for i in range(len(lst)):\n",
    "        print(lst[i])\n",
    "\n",
    "    for i in range(len(lst) - 1, -1, -1):  # Reverse iteration\n",
    "        print(lst[i])\n",
    "\n",
    "12. Sorting Lists\n",
    "\n",
    "    lst.sort()  # In-place, ascending\n",
    "    new_list = sorted(lst)  # Returns a new sorted list\n",
    "\n",
    "    # With parameters\n",
    "    lst.sort(reverse=True)\n",
    "    lst.sort(key=len)  # Sort strings/lists by their length\n",
    "\n",
    "    # Example: Sort by second element in tuple\n",
    "    items = [(\"apple\", 3), (\"banana\", 2), (\"cherry\", 5)]\n",
    "    items.sort(key=lambda x: x[1])\n",
    "    print(items)  # [('banana', 2), ('apple', 3), ('cherry', 5)]\n",
    "\n",
    "13. Copying a List\n",
    "\n",
    "    copy_list = lst.copy()\n",
    "    another_copy = list(lst)\n",
    "    # or using slicing\n",
    "    slice_copy = lst[:]\n",
    "\n",
    "14. Clearing a List\n",
    "\n",
    "    lst.clear()  # Removes all elements\n",
    "\n",
    "15. Checking Membership\n",
    "\n",
    "    if \"apple\" in lst:\n",
    "        print(\"Found\")\n",
    "\n",
    "16. Joining Elements (for lists of strings)\n",
    "\n",
    "    str_list = [\"a\", \"b\", \"c\"]\n",
    "    joined = \"-\".join(str_list)\n",
    "    print(joined)  # \"a-b-c\"\n",
    "\n",
    "17. Unpacking Lists\n",
    "\n",
    "    a, b, *rest = [1, 2, 3, 4, 5]\n",
    "    print(a, b, rest)  # 1 2 [3, 4, 5]\n",
    "\n",
    "18. List Comprehensions (Quick Create/Transform)\n",
    "\n",
    "    squares = [x**2 for x in range(10)]\n",
    "    evens = [x for x in lst if x % 2 == 0]\n",
    "\n",
    "19. Zipping Lists\n",
    "\n",
    "    names = [\"a\", \"b\", \"c\"]\n",
    "    scores = [90, 80, 70]\n",
    "    for name, score in zip(names, scores):\n",
    "        print(name, score)\n",
    "\n"
   ]
  },
  {
   "cell_type": "markdown",
   "id": "417073ed",
   "metadata": {},
   "source": []
  },
  {
   "cell_type": "code",
   "execution_count": 12,
   "id": "c254e954",
   "metadata": {},
   "outputs": [
    {
     "name": "stdout",
     "output_type": "stream",
     "text": [
      "[0, 1, 2, 3, 4]\n",
      "5\n",
      "[0, 1, 2, 3, 4]\n",
      "4\n"
     ]
    }
   ],
   "source": [
    "a = list()\n",
    "for i in range(5):\n",
    "    a.append(i)\n",
    "print(a)\n",
    "print(len(a))\n",
    "print(sorted(a))\n",
    "x = a.pop()\n",
    "print(x)\n",
    "\n"
   ]
  },
  {
   "cell_type": "code",
   "execution_count": null,
   "id": "31b0c844",
   "metadata": {},
   "outputs": [
    {
     "name": "stdout",
     "output_type": "stream",
     "text": [
      "How many cities do u want?\n",
      "3\n",
      "['kandy', 'new york', 'gajuwaka']\n",
      "The new cities list is: ['kandy', 'Gajuwaka', 'new york', 'gajuwaka']\n",
      "['kandy', 'Gajuwaka', 'gajuwaka']\n",
      "Removed element gajuwaka\n",
      "The final city list is ['kandy', 'Gajuwaka']\n"
     ]
    }
   ],
   "source": [
    "# Creating a list for storing cities\n",
    "\n",
    "cities = []\n",
    "print(\"How many cities do u want?\")\n",
    "num = int(input())\n",
    "print(num)\n",
    "for i in range(num):\n",
    "    cities.append(input())\n",
    "\n",
    "print(cities)\n",
    "\n",
    "#inserting new cities\n",
    "cities.insert(1, \"Gajuwaka\")\n",
    "print(f\"The new cities list is: {cities}\")\n",
    "\n",
    "#removing\n",
    "cities.remove(\"new york\")\n",
    "\n",
    "#printing\n",
    "print(cities)\n",
    "\n",
    "#Remove the last element using pop\n",
    "removed_city = cities.pop()\n",
    "print(f\"Removed element {removed_city}\")\n",
    "print(f\"The final city list is {cities}\")"
   ]
  },
  {
   "cell_type": "code",
   "execution_count": null,
   "id": "4c1d2403",
   "metadata": {},
   "outputs": [],
   "source": []
  }
 ],
 "metadata": {
  "kernelspec": {
   "display_name": "Python 3",
   "language": "python",
   "name": "python3"
  },
  "language_info": {
   "codemirror_mode": {
    "name": "ipython",
    "version": 3
   },
   "file_extension": ".py",
   "mimetype": "text/x-python",
   "name": "python",
   "nbconvert_exporter": "python",
   "pygments_lexer": "ipython3",
   "version": "3.13.5"
  }
 },
 "nbformat": 4,
 "nbformat_minor": 5
}
