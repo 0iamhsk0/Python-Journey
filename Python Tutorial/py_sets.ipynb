{
 "cells": [
  {
   "cell_type": "markdown",
   "id": "275f91e1",
   "metadata": {},
   "source": [
    "# What are Python Sets?\n",
    "\n",
    "Sets are unordered collections of unique, immutable elements.  \n",
    "They are useful for membership tests, removing duplicates, and performing set operations like union, intersection, etc.\n",
    "\n",
    "### 🔹 Key Features:\n",
    "- Unordered (no indexing/slicing)\n",
    "- No duplicate elements\n",
    "- Mutable (you can add or remove elements)\n",
    "- Elements must be immutable (e.g., numbers, strings, tuples)\n",
    "- Very efficient for membership checks (`in`)\n",
    "\n",
    "### ✅ Common Set Methods:\n",
    "- `add()` – Add one element  \n",
    "- `update()` – Add multiple elements from an iterable  \n",
    "- `remove()` – Remove an element (error if not found)  \n",
    "- `discard()` – Remove an element (no error if not found)  \n",
    "- `pop()` – Remove an arbitrary element  \n",
    "- `clear()` – Remove all elements  \n",
    "- `union()`, `intersection()`, `difference()`, `symmetric_difference()`\n"
   ]
  },
  {
   "cell_type": "code",
   "execution_count": 5,
   "id": "272594bb",
   "metadata": {},
   "outputs": [
    {
     "name": "stdout",
     "output_type": "stream",
     "text": [
      "After add & update: {1, 2, 3, 4, 5, 6}\n",
      "After remove & discard: {1, 4, 5, 6}\n",
      "Popped: 1\n",
      "Is 5 in set? True\n",
      "Is 10 in set? False\n",
      "Length: 3\n",
      "Union: {1, 2, 3, 4, 5}\n",
      "Intersection: {3}\n",
      "Difference (A - B): {1, 2}\n",
      "Difference (B - A): {4, 5}\n",
      "Symmetric Difference: {1, 2, 4, 5}\n",
      "After clear: set()\n",
      "Element: 1\n",
      "Element: 2\n",
      "Element: 3\n",
      "Unique items: {1, 2, 3}\n"
     ]
    }
   ],
   "source": [
    "# 🔹 Creating Sets\n",
    "my_set = {1, 2, 3}\n",
    "empty_set = set()  # Must use set(), not {}\n",
    "\n",
    "# 🔹 Adding Elements\n",
    "my_set.add(4)\n",
    "my_set.update([5, 6])\n",
    "print(\"After add & update:\", my_set)\n",
    "\n",
    "# 🔹 Removing Elements\n",
    "my_set.remove(2)    # Error if 2 not found\n",
    "my_set.discard(3)   # No error if 3 not found\n",
    "print(\"After remove & discard:\", my_set)\n",
    "\n",
    "# 🔹 Pop an arbitrary element\n",
    "popped = my_set.pop()\n",
    "print(\"Popped:\", popped)\n",
    "\n",
    "# 🔹 Membership Testing\n",
    "print(\"Is 5 in set?\", 5 in my_set)\n",
    "print(\"Is 10 in set?\", 10 in my_set)\n",
    "\n",
    "# 🔹 Length\n",
    "print(\"Length:\", len(my_set))\n",
    "\n",
    "# 🔹 Set Operations\n",
    "A = {1, 2, 3}\n",
    "B = {3, 4, 5}\n",
    "\n",
    "print(\"Union:\", A | B)\n",
    "print(\"Intersection:\", A & B)\n",
    "print(\"Difference (A - B):\", A - B)\n",
    "print(\"Difference (B - A):\", B - A)\n",
    "print(\"Symmetric Difference:\", A ^ B)\n",
    "\n",
    "# 🔹 Clearing\n",
    "my_set.clear()\n",
    "print(\"After clear:\", my_set)\n",
    "\n",
    "# 🔹 Iteration\n",
    "for item in A:\n",
    "    print(\"Element:\", item)\n",
    "\n",
    "# 🔹 Remove duplicates from list using set\n",
    "lst = [1, 2, 2, 3, 3, 3]\n",
    "unique = set(lst)\n",
    "print(\"Unique items:\", unique)\n"
   ]
  },
  {
   "cell_type": "code",
   "execution_count": null,
   "id": "a5fd6440",
   "metadata": {},
   "outputs": [],
   "source": []
  }
 ],
 "metadata": {
  "kernelspec": {
   "display_name": "Python 3",
   "language": "python",
   "name": "python3"
  },
  "language_info": {
   "codemirror_mode": {
    "name": "ipython",
    "version": 3
   },
   "file_extension": ".py",
   "mimetype": "text/x-python",
   "name": "python",
   "nbconvert_exporter": "python",
   "pygments_lexer": "ipython3",
   "version": "3.13.5"
  }
 },
 "nbformat": 4,
 "nbformat_minor": 5
}
