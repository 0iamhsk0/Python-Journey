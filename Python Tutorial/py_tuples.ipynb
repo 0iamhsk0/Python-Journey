{
 "cells": [
  {
   "cell_type": "markdown",
   "id": "5cf0b6bb",
   "metadata": {},
   "source": [
    "### 🧾 What are Python Tuples?\n",
    "\n",
    "Tuples in Python are:\n",
    "\n",
    "- Immutable (cannot be changed after creation)\n",
    "- Store **ordered** elements\n",
    "- Allow **duplicate values**\n",
    "- Heterogeneous (can store different data types)\n",
    "- Indexed using integers (starting from 0)\n",
    "- More memory efficient than lists\n",
    "- Used when data should not change (like coordinates, fixed records)\n",
    "- Can be used as dictionary keys (if the tuple itself contains only immutable elements)\n",
    "\n",
    "# Example:\n",
    "my_tuple = (1, \"apple\", 3.14, True)\n",
    "print(my_tuple)\n"
   ]
  },
  {
   "cell_type": "code",
   "execution_count": 3,
   "id": "515ade11",
   "metadata": {},
   "outputs": [
    {
     "name": "stdout",
     "output_type": "stream",
     "text": [
      "10\n",
      "30\n",
      "(20, 30)\n",
      "3\n",
      "30\n",
      "10\n",
      "60\n",
      "1\n",
      "2\n",
      "10 20 30\n",
      "True\n",
      "True\n",
      "(10, 20, 30, 40, 50)\n",
      "(10, 20, 30, 10, 20, 30)\n",
      "((10, 20, 30), (1, 2, 3))\n"
     ]
    }
   ],
   "source": [
    "### ⚙️ Important Tuple Methods and Operations\n",
    "\n",
    "# ✅ Creating Tuples\n",
    "t1 = (10, 20, 30)\n",
    "t2 = tuple([1, 2, 3])\n",
    "t3 = (\"a\",)  # Single-element tuple must include a comma\n",
    "\n",
    "# ✅ Accessing Elements\n",
    "print(t1[0])       # First element\n",
    "print(t1[-1])      # Last element\n",
    "print(t1[1:3])     # Slicing\n",
    "\n",
    "# ✅ Built-in Functions\n",
    "print(len(t1))          # Length of tuple\n",
    "print(max(t1))          # Maximum (works with numeric or string values)\n",
    "print(min(t1))          # Minimum\n",
    "print(sum(t1))          # Sum (if all elements are numeric)\n",
    "print(t1.count(10))     # Count occurrences of 10\n",
    "print(t1.index(30))     # Index of first occurrence of 30\n",
    "\n",
    "# ✅ Tuple Unpacking\n",
    "a, b, c = t1\n",
    "print(a, b, c)\n",
    "\n",
    "# ✅ Membership Testing\n",
    "print(20 in t1)   # True\n",
    "print(40 not in t1)  # True\n",
    "\n",
    "# ✅ Concatenation & Repetition\n",
    "print(t1 + (40, 50))   # Concatenate\n",
    "print(t1 * 2)          # Repeat\n",
    "\n",
    "# ✅ Nesting Tuples\n",
    "nested = (t1, t2)\n",
    "print(nested)\n"
   ]
  },
  {
   "cell_type": "code",
   "execution_count": null,
   "id": "76100271",
   "metadata": {},
   "outputs": [
    {
     "name": "stdout",
     "output_type": "stream",
     "text": [
      "1\n",
      "6.56\n",
      "1\n",
      "['Sai', 1, 6.56]\n"
     ]
    }
   ],
   "source": [
    "### Tuple practise\n",
    "\n",
    "# 1. Creating a tuple\n",
    "tup = (\"Sai\", 1, 6.56)\n",
    "\n",
    "# 2. Indexing\n",
    "print(tup.index(1))\n",
    "print(tup[-1])\n",
    "\n",
    "# 3. Count\n",
    "print(tup.count(\"Sai\"))      \n",
    "\n",
    "# 4. tuple unpacking\n",
    "*ALLSTAR, = tup\n",
    "print(ALLSTAR)"
   ]
  },
  {
   "cell_type": "markdown",
   "id": "b0dea201",
   "metadata": {},
   "source": []
  }
 ],
 "metadata": {
  "kernelspec": {
   "display_name": "Python 3",
   "language": "python",
   "name": "python3"
  },
  "language_info": {
   "codemirror_mode": {
    "name": "ipython",
    "version": 3
   },
   "file_extension": ".py",
   "mimetype": "text/x-python",
   "name": "python",
   "nbconvert_exporter": "python",
   "pygments_lexer": "ipython3",
   "version": "3.13.5"
  }
 },
 "nbformat": 4,
 "nbformat_minor": 5
}
