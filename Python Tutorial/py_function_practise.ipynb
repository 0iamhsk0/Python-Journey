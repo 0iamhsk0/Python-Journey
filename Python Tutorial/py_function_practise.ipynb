{
 "cells": [
  {
   "cell_type": "markdown",
   "id": "502cdad1",
   "metadata": {},
   "source": [
    "### Function Practice -1\n",
    "\n",
    "9:27 AM\n",
    "\n",
    "100 points\n",
    "\n",
    "### Write a function get_max(num1, num2) that returns the maximum of the two numbers.\n",
    "\n",
    "\n",
    "\n"
   ]
  },
  {
   "cell_type": "code",
   "execution_count": 1,
   "id": "7b6f5c8c",
   "metadata": {},
   "outputs": [
    {
     "name": "stdout",
     "output_type": "stream",
     "text": [
      "20\n"
     ]
    }
   ],
   "source": [
    "def get_max(a, b):\n",
    "    print(max(a,b))\n",
    "    return\n",
    "\n",
    "get_max(10, 20)\n"
   ]
  },
  {
   "cell_type": "markdown",
   "id": "ec7b5c6d",
   "metadata": {},
   "source": [
    "### Function Practice -2\n",
    "\n",
    "### Write a function count_vowels(s) that returns the number of vowels in the given string.\n",
    "Input: \"Hello World\"\n",
    "Output: 3"
   ]
  },
  {
   "cell_type": "code",
   "execution_count": 2,
   "id": "bbcbb009",
   "metadata": {},
   "outputs": [
    {
     "data": {
      "text/plain": [
       "3"
      ]
     },
     "execution_count": 2,
     "metadata": {},
     "output_type": "execute_result"
    }
   ],
   "source": [
    "def count_vowels(s):\n",
    "    vowels = \"aeiouAEIOU\"\n",
    "    count = 0\n",
    "    for char in s:\n",
    "        if char in vowels:\n",
    "            count += 1\n",
    "    return count\n",
    "\n",
    "count_vowels(\"Hello World\")"
   ]
  },
  {
   "cell_type": "markdown",
   "id": "c4fe4e6c",
   "metadata": {},
   "source": [
    "### Fp-3\n",
    "\n",
    "Write a function sum_numbers(lst) that returns the sum of all numbers in a list.\n",
    "\n",
    "Input : [1,2,3,4,5]\n",
    "Output : 15"
   ]
  },
  {
   "cell_type": "code",
   "execution_count": 3,
   "id": "71a53e63",
   "metadata": {},
   "outputs": [
    {
     "data": {
      "text/plain": [
       "15"
      ]
     },
     "execution_count": 3,
     "metadata": {},
     "output_type": "execute_result"
    }
   ],
   "source": [
    "def sum_numbers(lst):\n",
    "    return sum(lst)\n",
    "\n",
    "Input = [1,2,3,4,5]\n",
    "sum_numbers(Input)\n"
   ]
  },
  {
   "cell_type": "markdown",
   "id": "5dba596c",
   "metadata": {},
   "source": [
    "### Fp - 4\n",
    "\n",
    "Write a function get_min_max(lst) that returns the minimum and maximum of the list\n",
    "\n",
    "Input: [3, 5, 1, 9, 7]\n",
    "\n",
    "Output: (1, 9)"
   ]
  },
  {
   "cell_type": "code",
   "execution_count": 12,
   "id": "82d8769c",
   "metadata": {},
   "outputs": [
    {
     "name": "stdout",
     "output_type": "stream",
     "text": [
      "The max is 9 and the min is 1\n"
     ]
    }
   ],
   "source": [
    "def get_min_max(inp):\n",
    "    print(f\"The max is {max(inp)} and the min is {min(inp)}\")\n",
    "    return\n",
    "\n",
    "inp = [3,5,1,9,7]\n",
    "get_min_max(inp)\n",
    "\n"
   ]
  },
  {
   "cell_type": "markdown",
   "id": "89706516",
   "metadata": {},
   "source": [
    "### Fp- 5\n",
    "\n",
    "Write a function word_frequency(sentence) that returns a dictionary with word frequency.\n",
    "\n",
    "Input: \"this is a test this is not fun\"\n",
    "\n",
    "Output: {'this': 2, 'is': 2, 'a': 1, 'test': 1, 'not': 1, 'fun': 1}"
   ]
  },
  {
   "cell_type": "code",
   "execution_count": 14,
   "id": "1feee821",
   "metadata": {},
   "outputs": [
    {
     "name": "stdout",
     "output_type": "stream",
     "text": [
      "Counter({'this': 2, 'is': 2, 'a': 1, 'test': 1, 'not': 1, 'fun': 1})\n"
     ]
    }
   ],
   "source": [
    "from collections import Counter\n",
    "\n",
    "def word_frequency(sentence):\n",
    "    words = sentence.split()\n",
    "    count = Counter(words)\n",
    "    return count\n",
    "\n",
    "print(word_frequency(\"this is a test this is not fun\"))\n",
    "\n"
   ]
  },
  {
   "cell_type": "markdown",
   "id": "ac76e71b",
   "metadata": {},
   "source": [
    "### Fp-6\n",
    "\n",
    "Write a python function to remove duplicates from a dictionary\n",
    "\n",
    "  data = [\n",
    "{\"id\": 1, \"name\": \"Alice\"}, \n",
    "  {\"id\": 2, \"name\": \"Bob\"},\n",
    " {\"id\": 1, \"name\": \"Charlie\"}, \n",
    " {\"id\": 3, \"name\": \"Alice\"}\n",
    " ]"
   ]
  },
  {
   "cell_type": "code",
   "execution_count": 16,
   "id": "a610f6ef",
   "metadata": {},
   "outputs": [
    {
     "name": "stdout",
     "output_type": "stream",
     "text": [
      "[{'id': 1, 'name': 'Alice'}, {'id': 2, 'name': 'Bob'}, {'id': 1, 'name': 'Charlie'}, {'id': 3, 'name': 'Alice'}]\n"
     ]
    }
   ],
   "source": [
    "def rem_dups(data):\n",
    "    new = [dict(t) for t in {tuple(d.items()) for d in data}]\n",
    "    return new\n",
    "\n",
    "print(rem_dups([\n",
    "    {\"id\": 1, \"name\": \"Alice\"}, \n",
    "    {\"id\": 2, \"name\": \"Bob\"},\n",
    "    {\"id\": 1, \"name\": \"Charlie\"}, \n",
    "    {\"id\": 3, \"name\": \"Alice\"}\n",
    "]))\n"
   ]
  },
  {
   "cell_type": "markdown",
   "id": "52aaaf15",
   "metadata": {},
   "source": [
    "### Fp -7 \n",
    "\n",
    "Write a Python code to print the factorial \n",
    "\n",
    "Formula : n! = n*(n-1)*....*1(base : 0! = 1)\n",
    "\n",
    "Take the input from the user as n , \n",
    "\n",
    "Example : \n",
    "\n",
    "Input : 5\n",
    "\n",
    "Output : 120"
   ]
  },
  {
   "cell_type": "code",
   "execution_count": 17,
   "id": "f66a9343",
   "metadata": {},
   "outputs": [
    {
     "name": "stdout",
     "output_type": "stream",
     "text": [
      "24\n"
     ]
    }
   ],
   "source": [
    "def factorial(n):\n",
    "  if n == 0:\n",
    "    return 1\n",
    "  else:\n",
    "    result = 1\n",
    "    for i in range(1, n + 1):\n",
    "      result = result * i\n",
    "    return result\n",
    "\n",
    "n = int(input())\n",
    "print(factorial(n))"
   ]
  },
  {
   "cell_type": "code",
   "execution_count": null,
   "id": "c909c24a",
   "metadata": {},
   "outputs": [],
   "source": []
  }
 ],
 "metadata": {
  "kernelspec": {
   "display_name": "Python 3",
   "language": "python",
   "name": "python3"
  },
  "language_info": {
   "codemirror_mode": {
    "name": "ipython",
    "version": 3
   },
   "file_extension": ".py",
   "mimetype": "text/x-python",
   "name": "python",
   "nbconvert_exporter": "python",
   "pygments_lexer": "ipython3",
   "version": "3.13.3"
  }
 },
 "nbformat": 4,
 "nbformat_minor": 5
}
