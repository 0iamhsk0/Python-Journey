{
 "cells": [
  {
   "cell_type": "markdown",
   "id": "93c1fb7d",
   "metadata": {},
   "source": [
    "## File Handling in Python\n",
    "\n",
    "- File handling refers to the process of performing operations on a file such as creating, opening, reading, writing and closing it using python's inbuilt functions\n",
    "- "
   ]
  },
  {
   "cell_type": "code",
   "execution_count": 2,
   "id": "f3d66c02",
   "metadata": {},
   "outputs": [
    {
     "name": "stdout",
     "output_type": "stream",
     "text": [
      "File example.txt created successfully.\n",
      "Hello, world!\n",
      "\n",
      "Text appended to file example.txt successfully.\n",
      "Hello, world!\n",
      "This is some additional text.\n",
      "\n",
      "File example.txt renamed to new_example.txt successfully.\n",
      "Hello, world!\n",
      "This is some additional text.\n",
      "\n",
      "File new_example.txt deleted successfully.\n"
     ]
    }
   ],
   "source": [
    "import os\n",
    "\n",
    "def create_file(filename):\n",
    "    try:\n",
    "        with open(filename, 'w') as f:\n",
    "            f.write('Hello, world!\\n')\n",
    "        print(\"File \" + filename + \" created successfully.\")\n",
    "    except IOError:\n",
    "        print(\"Error: could not create file \" + filename)\n",
    "\n",
    "def read_file(filename):\n",
    "    try:\n",
    "        with open(filename, 'r') as f:\n",
    "            contents = f.read()\n",
    "            print(contents)\n",
    "    except IOError:\n",
    "        print(\"Error: could not read file \" + filename)\n",
    "\n",
    "def append_file(filename, text):\n",
    "    try:\n",
    "        with open(filename, 'a') as f:\n",
    "            f.write(text)\n",
    "        print(\"Text appended to file \" + filename + \" successfully.\")\n",
    "    except IOError:\n",
    "        print(\"Error: could not append to file \" + filename)\n",
    "\n",
    "def rename_file(filename, new_filename):\n",
    "    try:\n",
    "        os.rename(filename, new_filename)\n",
    "        print(\"File \" + filename + \" renamed to \" + \n",
    "                  new_filename + \" successfully.\")\n",
    "    except IOError:\n",
    "        print(\"Error: could not rename file \" + filename)\n",
    "\n",
    "def delete_file(filename):\n",
    "    try:\n",
    "        os.remove(filename)\n",
    "        print(\"File \" + filename + \" deleted successfully.\")\n",
    "    except IOError:\n",
    "        print(\"Error: could not delete file \" + filename)\n",
    "\n",
    "\n",
    "if __name__ == '__main__':\n",
    "    filename = \"example.txt\"\n",
    "    new_filename = \"new_example.txt\"\n",
    "\n",
    "    create_file(filename)\n",
    "    read_file(filename)\n",
    "    append_file(filename, \"This is some additional text.\\n\")\n",
    "    read_file(filename)\n",
    "    rename_file(filename, new_filename)\n",
    "    read_file(new_filename)\n",
    "    delete_file(new_filename)"
   ]
  },
  {
   "cell_type": "code",
   "execution_count": null,
   "id": "945ca17a",
   "metadata": {},
   "outputs": [],
   "source": []
  }
 ],
 "metadata": {
  "kernelspec": {
   "display_name": "Python 3",
   "language": "python",
   "name": "python3"
  },
  "language_info": {
   "codemirror_mode": {
    "name": "ipython",
    "version": 3
   },
   "file_extension": ".py",
   "mimetype": "text/x-python",
   "name": "python",
   "nbconvert_exporter": "python",
   "pygments_lexer": "ipython3",
   "version": "3.13.3"
  }
 },
 "nbformat": 4,
 "nbformat_minor": 5
}
