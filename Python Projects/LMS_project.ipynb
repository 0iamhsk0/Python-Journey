{
 "cells": [
  {
   "cell_type": "markdown",
   "id": "e91a83a5",
   "metadata": {},
   "source": [
    "### Library Book Management System\n",
    "DareTo Code\n",
    "•\n",
    "1:19 PM\n",
    "100 points\n",
    "Problem:\n",
    "A library wants to manage its books using Python. \n",
    "\n",
    "\n",
    "Each book has:\n",
    "- Title\n",
    "- Author\n",
    "- Genre\n",
    "- Year of publication\n",
    "\n",
    "Tasks:\n",
    "1. Take input for 5 books and store them using a list of dictionaries.\n",
    "2. Create a set of all unique genres.\n",
    "3. Create a tuple of all authors.\n",
    "4. Print all books published after 2010.\n",
    "5. Add a new book and remove an old one based on title."
   ]
  },
  {
   "cell_type": "markdown",
   "id": "e53e1093",
   "metadata": {},
   "source": [
    "### 1. Storing the books data\n"
   ]
  },
  {
   "cell_type": "code",
   "execution_count": 31,
   "id": "29905160",
   "metadata": {},
   "outputs": [
    {
     "name": "stdout",
     "output_type": "stream",
     "text": [
      "{   1: {   'Title': 'The Midnight Library',\n",
      "           'Author': 'Matt Haig',\n",
      "           'Genre': 'Fantasy / Fiction',\n",
      "           'Year of publication': 2020},\n",
      "    2: {   'Title': 'It Ends with Us',\n",
      "           'Author': 'Colleen Hoover',\n",
      "           'Genre': 'Romance / Contemporary Fiction',\n",
      "           'Year of publication': 2016},\n",
      "    3: {   'Title': 'The Alchemist',\n",
      "           'Author': 'Paulo Coelho',\n",
      "           'Genre': 'Adventure / Philosophy / Fiction',\n",
      "           'Year of publication': 1988},\n",
      "    4: {   'Title': 'The Silent Patient',\n",
      "           'Author': 'Alex Michaelides',\n",
      "           'Genre': 'Psychological Thriller / Mystery',\n",
      "           'Year of publication': 2019},\n",
      "    5: {   'Title': 'Atomic Habits',\n",
      "           'Author': 'James Clear',\n",
      "           'Genre': 'Self-help / Personal Development',\n",
      "           'Year of publication': 2018}}\n",
      "Welcome to LMS our available books are: None\n"
     ]
    }
   ],
   "source": [
    "#for better indentation\n",
    "from pprint import pprint\n",
    "\n",
    "\n",
    "books = {\n",
    "    1: {\n",
    "        \"Title\": \"The Midnight Library\",\n",
    "        \"Author\": \"Matt Haig\",\n",
    "        \"Genre\": \"Fantasy / Fiction\",\n",
    "        \"Year of publication\": 2020\n",
    "    },\n",
    "    2: {\n",
    "        \"Title\": \"It Ends with Us\",\n",
    "        \"Author\": \"Colleen Hoover\",\n",
    "        \"Genre\": \"Romance / Contemporary Fiction\",\n",
    "        \"Year of publication\": 2016\n",
    "    },\n",
    "    3: {\n",
    "        \"Title\": \"The Alchemist\",\n",
    "        \"Author\": \"Paulo Coelho\",\n",
    "        \"Genre\": \"Adventure / Philosophy / Fiction\",\n",
    "        \"Year of publication\": 1988\n",
    "    },\n",
    "    4: {\n",
    "        \"Title\": \"The Silent Patient\",\n",
    "        \"Author\": \"Alex Michaelides\",\n",
    "        \"Genre\": \"Psychological Thriller / Mystery\",\n",
    "        \"Year of publication\": 2019\n",
    "    },\n",
    "    5: {\n",
    "        \"Title\": \"Atomic Habits\",\n",
    "        \"Author\": \"James Clear\",\n",
    "        \"Genre\": \"Self-help / Personal Development\",\n",
    "        \"Year of publication\": 2018\n",
    "    }\n",
    "}\n",
    "\n",
    "print(f\"Welcome to LMS our available books are: {pprint(books, indent=4, sort_dicts=False)}\")\n"
   ]
  },
  {
   "cell_type": "markdown",
   "id": "711c22dc",
   "metadata": {},
   "source": [
    "### 2. using set comprehensions to store the unique genres"
   ]
  },
  {
   "cell_type": "code",
   "execution_count": 23,
   "id": "516d95e7",
   "metadata": {},
   "outputs": [
    {
     "name": "stdout",
     "output_type": "stream",
     "text": [
      "The unique set of Genre's are: {'Contemporary Fiction', 'Fantasy', 'Psychological Thriller', 'Personal Development', 'Adventure', 'Romance', 'Fiction', 'Philosophy', 'Mystery', 'Self-help'}\n"
     ]
    }
   ],
   "source": [
    "unique_genre = set(genre.strip() for book in books.values() for genre in book[\"Genre\"].split(\"/\"))\n",
    "print(f\"The unique set of Genre's are: {unique_genre}\")"
   ]
  },
  {
   "cell_type": "markdown",
   "id": "fab502d3",
   "metadata": {},
   "source": [
    "### 3. tuple comprehension to store all the authors"
   ]
  },
  {
   "cell_type": "code",
   "execution_count": 24,
   "id": "f0802875",
   "metadata": {},
   "outputs": [
    {
     "name": "stdout",
     "output_type": "stream",
     "text": [
      "The tuple of authors are: ('Matt Haig', 'Colleen Hoover', 'Paulo Coelho', 'Alex Michaelides', 'James Clear')\n"
     ]
    }
   ],
   "source": [
    "#authors_tuple = (author for book in books.values() for author in book[\"Author\"])\n",
    "authors_tuple = tuple(book[\"Author\"] for book in books.values())\n",
    "print(f\"The tuple of authors are: {authors_tuple}\")"
   ]
  },
  {
   "cell_type": "markdown",
   "id": "421534b4",
   "metadata": {},
   "source": [
    "### 4. List comprehension for storing the books published after 2010"
   ]
  },
  {
   "cell_type": "code",
   "execution_count": 25,
   "id": "a3ddda73",
   "metadata": {},
   "outputs": [
    {
     "name": "stdout",
     "output_type": "stream",
     "text": [
      "The list of books which are released after 2010 are ['The Midnight Library', 'It Ends with Us', 'The Silent Patient', 'Atomic Habits']\n"
     ]
    }
   ],
   "source": [
    "books_released = list(book[\"Title\"] for book in books.values() if book[\"Year of publication\"] > 2010)\n",
    "print(f\"The list of books which are released after 2010 are {books_released}\")"
   ]
  },
  {
   "cell_type": "markdown",
   "id": "f0984edc",
   "metadata": {},
   "source": [
    "### 5. Adding a new book and removing an old one based on the title (Im removing the 1988 book)\n",
    "\n",
    "- Adding new book can be done by either dict(), update(), indexing"
   ]
  },
  {
   "cell_type": "code",
   "execution_count": null,
   "id": "d1667045",
   "metadata": {},
   "outputs": [
    {
     "name": "stdout",
     "output_type": "stream",
     "text": [
      "The oldest book in the library is removed! -> {'Title': 'Fourth Wing', 'Author': 'Rebecca Yarros', 'Genre': 'Fantasy / Romance', 'Year of publication': 2023}\n",
      "{   1: {   'Title': 'The Midnight Library',\n",
      "           'Author': 'Matt Haig',\n",
      "           'Genre': 'Fantasy / Fiction',\n",
      "           'Year of publication': 2020},\n",
      "    2: {   'Title': 'It Ends with Us',\n",
      "           'Author': 'Colleen Hoover',\n",
      "           'Genre': 'Romance / Contemporary Fiction',\n",
      "           'Year of publication': 2016},\n",
      "    4: {   'Title': 'The Silent Patient',\n",
      "           'Author': 'Alex Michaelides',\n",
      "           'Genre': 'Psychological Thriller / Mystery',\n",
      "           'Year of publication': 2019},\n",
      "    5: {   'Title': 'Atomic Habits',\n",
      "           'Author': 'James Clear',\n",
      "           'Genre': 'Self-help / Personal Development',\n",
      "           'Year of publication': 2018},\n",
      "    3: {   'Title': 'Fourth Wing',\n",
      "           'Author': 'Rebecca Yarros',\n",
      "           'Genre': 'Fantasy / Romance',\n",
      "           'Year of publication': 2023}}\n"
     ]
    }
   ],
   "source": [
    "old_book = books.pop(3)\n",
    "print(f\"The oldest book in the library is removed! -> {old_book}\")\n",
    "books[3] = {\"Title\": \"Fourth Wing\", \"Author\": \"Rebecca Yarros\", \"Genre\": \"Fantasy / Romance\", \"Year of publication\": 2023}\n"
   ]
  },
  {
   "cell_type": "markdown",
   "id": "b866069f",
   "metadata": {},
   "source": [
    "### 6. Final updated available books"
   ]
  },
  {
   "cell_type": "code",
   "execution_count": 28,
   "id": "f9678978",
   "metadata": {},
   "outputs": [
    {
     "name": "stdout",
     "output_type": "stream",
     "text": [
      "The lateest updated LMS with new books are dict_items([(1, {'Title': 'The Midnight Library', 'Author': 'Matt Haig', 'Genre': 'Fantasy / Fiction', 'Year of publication': 2020}), (2, {'Title': 'It Ends with Us', 'Author': 'Colleen Hoover', 'Genre': 'Romance / Contemporary Fiction', 'Year of publication': 2016}), (4, {'Title': 'The Silent Patient', 'Author': 'Alex Michaelides', 'Genre': 'Psychological Thriller / Mystery', 'Year of publication': 2019}), (5, {'Title': 'Atomic Habits', 'Author': 'James Clear', 'Genre': 'Self-help / Personal Development', 'Year of publication': 2018}), (3, {'Title': 'Fourth Wing', 'Author': 'Rebecca Yarros', 'Genre': 'Fantasy / Romance', 'Year of publication': 2023})])\n",
      "{   1: {   'Title': 'The Midnight Library',\n",
      "           'Author': 'Matt Haig',\n",
      "           'Genre': 'Fantasy / Fiction',\n",
      "           'Year of publication': 2020},\n",
      "    2: {   'Title': 'It Ends with Us',\n",
      "           'Author': 'Colleen Hoover',\n",
      "           'Genre': 'Romance / Contemporary Fiction',\n",
      "           'Year of publication': 2016},\n",
      "    4: {   'Title': 'The Silent Patient',\n",
      "           'Author': 'Alex Michaelides',\n",
      "           'Genre': 'Psychological Thriller / Mystery',\n",
      "           'Year of publication': 2019},\n",
      "    5: {   'Title': 'Atomic Habits',\n",
      "           'Author': 'James Clear',\n",
      "           'Genre': 'Self-help / Personal Development',\n",
      "           'Year of publication': 2018},\n",
      "    3: {   'Title': 'Fourth Wing',\n",
      "           'Author': 'Rebecca Yarros',\n",
      "           'Genre': 'Fantasy / Romance',\n",
      "           'Year of publication': 2023}}\n"
     ]
    }
   ],
   "source": [
    "from pprint import pprint\n",
    "\n",
    "print(f\"The lateest updated LMS with new books are {books.items()}\")\n",
    "\n",
    "# for better understanding and indenting\n",
    "pprint(books, indent=4, sort_dicts=False)\n"
   ]
  },
  {
   "cell_type": "markdown",
   "id": "60d1ac15",
   "metadata": {},
   "source": []
  }
 ],
 "metadata": {
  "kernelspec": {
   "display_name": "Python 3",
   "language": "python",
   "name": "python3"
  },
  "language_info": {
   "codemirror_mode": {
    "name": "ipython",
    "version": 3
   },
   "file_extension": ".py",
   "mimetype": "text/x-python",
   "name": "python",
   "nbconvert_exporter": "python",
   "pygments_lexer": "ipython3",
   "version": "3.13.5"
  }
 },
 "nbformat": 4,
 "nbformat_minor": 5
}
