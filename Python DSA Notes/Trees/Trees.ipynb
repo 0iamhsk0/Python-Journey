{
 "cells": [
  {
   "cell_type": "markdown",
   "metadata": {},
   "source": [
    "### Trees\n",
    "\n",
    "Tree is actually a graph with cycles.Trees can be implemented by either using **Class and methods** or using a **deque from collections** or using **anytree library**\n",
    "\n",
    "types of trees:\n",
    "1. Normal tree\n",
    "2. Binary tree\n",
    "3. Full/complete binary tree\n",
    "4. Binary search tree\n",
    "5. AVL tree\n",
    "6. \n",
    "\n",
    "\n",
    "- we can create **adjacency matrix** for loading all the elements(just a maxtrix representation of the elements)\n"
   ]
  },
  {
   "cell_type": "markdown",
   "metadata": {},
   "source": [
    "**1st method using deques:**\n",
    "\n",
    "methods in deque:\n",
    "\n",
    "- append(for right appending)\n",
    "- appendleft(for left appending)\n",
    "- pop(for right popping)\n",
    "- popleft(for left popping)  "
   ]
  },
  {
   "cell_type": "markdown",
   "metadata": {},
   "source": [
    "### Traversals:\n",
    "\n",
    "1. Inorder = l-n-r\n",
    "2. Preorder = n-l-r\n",
    "3. Postorder = l-r-n"
   ]
  },
  {
   "cell_type": "code",
   "execution_count": null,
   "metadata": {},
   "outputs": [],
   "source": []
  }
 ],
 "metadata": {
  "language_info": {
   "name": "python"
  }
 },
 "nbformat": 4,
 "nbformat_minor": 2
}
