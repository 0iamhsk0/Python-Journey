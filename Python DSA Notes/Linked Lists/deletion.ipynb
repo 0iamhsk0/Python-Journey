{
 "cells": [
  {
   "cell_type": "markdown",
   "id": "8714eace",
   "metadata": {},
   "source": [
    "Types of Deletion in Linked List\n",
    "\n",
    "- Deletion at the Beginning of Linked List\n",
    "- Deletion at Specific Position of Linked List\n",
    "- Deletion at the End of Linked List"
   ]
  },
  {
   "cell_type": "markdown",
   "id": "a060b25c",
   "metadata": {},
   "source": [
    "### 0. LL creation"
   ]
  },
  {
   "cell_type": "code",
   "execution_count": 2,
   "id": "445a264c",
   "metadata": {},
   "outputs": [
    {
     "name": "stdout",
     "output_type": "stream",
     "text": [
      "Initial linked list:\n",
      "0 -> 1 -> 2 -> 3 -> None\n"
     ]
    }
   ],
   "source": [
    "class Node:\n",
    "    def __init__(self, data):\n",
    "        self.data = data\n",
    "        self.next = None\n",
    "\n",
    "def create_ll(arr):\n",
    "    if not arr:\n",
    "        return None\n",
    "    head = Node(arr[0])\n",
    "    current = head\n",
    "    for elem in arr[1:]:\n",
    "        current.next = Node(elem)\n",
    "        current = current.next\n",
    "        \n",
    "    return head\n",
    "\n",
    "def print_list(head):\n",
    "    current = head\n",
    "    while current:\n",
    "        print(current.data, end=\" -> \")\n",
    "        current = current.next\n",
    "    print(\"None\")\n",
    "\n",
    "\n",
    "arr = []\n",
    "n = int(input(\"Enter number of nodes: \"))\n",
    "for _ in range(n):\n",
    "    val = int(input(\"Enter node value: \"))\n",
    "    arr.append(val)\n",
    "\n",
    "head = create_ll(arr)\n",
    "print(\"Initial linked list:\")\n",
    "print_list(head)"
   ]
  },
  {
   "cell_type": "markdown",
   "id": "6898df03",
   "metadata": {},
   "source": [
    "### 1. First node Deletion"
   ]
  },
  {
   "cell_type": "code",
   "execution_count": 3,
   "id": "48cbdee8",
   "metadata": {},
   "outputs": [
    {
     "name": "stdout",
     "output_type": "stream",
     "text": [
      "LL after deleting first node: \n",
      "1 -> 2 -> 3 -> None\n"
     ]
    }
   ],
   "source": [
    "def del_first(head):\n",
    "    if head is None:\n",
    "        return None\n",
    "    \n",
    "    temp = head\n",
    "    head = head.next\n",
    "    temp = None\n",
    "\n",
    "    return head\n",
    "\n",
    "print(\"LL after deleting first node: \")\n",
    "head = del_first(head)\n",
    "print_list(head)"
   ]
  },
  {
   "cell_type": "markdown",
   "id": "bbfab6ae",
   "metadata": {},
   "source": [
    "### 2.1 At a specific Node element Deletion"
   ]
  },
  {
   "cell_type": "code",
   "execution_count": 4,
   "id": "09268873",
   "metadata": {},
   "outputs": [
    {
     "name": "stdout",
     "output_type": "stream",
     "text": [
      "Element 7 not found in the list\n",
      "1 -> 2 -> 3 -> None\n"
     ]
    }
   ],
   "source": [
    "def del_at_element(head, elem):\n",
    "    if head is None:\n",
    "        return head\n",
    "    \n",
    "    if head.data == elem:\n",
    "        head = head.next\n",
    "        return head\n",
    "    \n",
    "    prev = None\n",
    "    current = head\n",
    "    \n",
    "    while current and current.data != elem:\n",
    "        prev = current\n",
    "        current = current.next\n",
    "    \n",
    "    if current is None:\n",
    "        print(f\"Element {elem} not found in the list\")\n",
    "        return head\n",
    "    \n",
    "    prev.next = current.next\n",
    "    \n",
    "    return head\n",
    "\n",
    "\n",
    "elem = int(input(f\"Enter the LL element that you want to Delete \"))\n",
    "head = del_at_element(head, elem)\n",
    "print_list(head)"
   ]
  },
  {
   "cell_type": "markdown",
   "id": "e7645629",
   "metadata": {},
   "source": [
    "### 2.2 At a specific Node index Deletion"
   ]
  },
  {
   "cell_type": "code",
   "execution_count": 5,
   "id": "40b6a729",
   "metadata": {},
   "outputs": [
    {
     "name": "stdout",
     "output_type": "stream",
     "text": [
      "Index out of bounds\n",
      "1 -> 2 -> None\n"
     ]
    }
   ],
   "source": [
    "def del_at_index(head, idx):\n",
    "    if head is None:\n",
    "        return head\n",
    "    if idx == 0:\n",
    "        return head.next\n",
    "    \n",
    "    current = head\n",
    "    prev = None\n",
    "    count = 0\n",
    "\n",
    "    while current and count != idx:\n",
    "        prev = current\n",
    "        current = current.next\n",
    "        count += 1\n",
    "    if current is None:\n",
    "        return head\n",
    "    else:\n",
    "        print(\"Index out of bounds\")\n",
    "        \n",
    "    prev.next = current.next\n",
    "\n",
    "    return head\n",
    "\n",
    "\n",
    "idx = int(input(f\"Enter the LL index that you want to Delete \"))\n",
    "head = del_at_index(head, idx)\n",
    "print_list(head)"
   ]
  },
  {
   "cell_type": "markdown",
   "id": "495639e3",
   "metadata": {},
   "source": [
    "### 3. At the end Deletion"
   ]
  },
  {
   "cell_type": "code",
   "execution_count": 6,
   "id": "ed04c12b",
   "metadata": {},
   "outputs": [
    {
     "name": "stdout",
     "output_type": "stream",
     "text": [
      "LL after Deleting the last node: \n",
      "1 -> None\n"
     ]
    }
   ],
   "source": [
    "# Three case:\n",
    "# del when LL empty, del when only head, del the last elem in LL\n",
    "def del_at_end(head):\n",
    "    if head is None:\n",
    "        return None\n",
    "    \n",
    "    if head.next is None:\n",
    "        return None\n",
    "    \n",
    "    current = head\n",
    "    while current.next.next is not None:\n",
    "        current = current.next\n",
    "    \n",
    "    current.next = None\n",
    "\n",
    "    return head\n",
    "\n",
    "print(\"LL after Deleting the last node: \")\n",
    "head = del_at_end(head)\n",
    "print_list(head)\n"
   ]
  }
 ],
 "metadata": {
  "kernelspec": {
   "display_name": "Python 3",
   "language": "python",
   "name": "python3"
  },
  "language_info": {
   "codemirror_mode": {
    "name": "ipython",
    "version": 3
   },
   "file_extension": ".py",
   "mimetype": "text/x-python",
   "name": "python",
   "nbconvert_exporter": "python",
   "pygments_lexer": "ipython3",
   "version": "3.13.5"
  }
 },
 "nbformat": 4,
 "nbformat_minor": 5
}
