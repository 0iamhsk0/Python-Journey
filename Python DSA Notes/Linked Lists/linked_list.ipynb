{
 "cells": [
  {
   "cell_type": "markdown",
   "metadata": {},
   "source": [
    "### Types of LL:\n",
    "1. Singular\n",
    "2. Double\n",
    "3. Circular\n",
    "...and many more additional variations based on the above\n",
    "\n",
    "- each node consists of two parts - **Data and pointer**(or referernce) to next node\n",
    "- The next of the last node is **null**, indicating the end of the list.\n",
    "- LL can be implemented in both homogeneous or heterogeneous"
   ]
  },
  {
   "cell_type": "markdown",
   "metadata": {},
   "source": [
    "### Why LL over Arrays?\n",
    "\n",
    "- **Easier/Effiecient** traversal and deletion than that of **Arrays**\n",
    "- Like arrays, it is also used to implement other data structures **like stack, queue and deque**\n",
    "- Non - Contiguous(scattered)\n",
    "- Memory allocation is for individual elements/nodes\n",
    "- Dynamic size"
   ]
  },
  {
   "cell_type": "markdown",
   "metadata": {},
   "source": [
    "### Why not LL over Arrays?\n",
    "\n",
    "- Extra memory required for storing pointers\n",
    "- No direct/random access (need - traversal)\n",
    "- Cache unfriendly (not stored in contiguous memory)"
   ]
  },
  {
   "cell_type": "markdown",
   "metadata": {},
   "source": [
    "### Linked List Operations\n",
    "\n",
    "- Length of Linked List\n",
    "- Print Linked List\n",
    "- Search in a Linked List\n",
    "- Linked List Insertion\n",
    "- Deleting a given key\n",
    "- Deleting at given position\n",
    "- Delete a Linked List\n",
    "- Nth Node from Start\n",
    "- Nth Node from End\n",
    "- Size of Doubly Linked"
   ]
  },
  {
   "cell_type": "markdown",
   "metadata": {},
   "source": [
    "### Singly LL creation\n",
    "\n",
    "- Steps for creating a LL everytime:\n",
    "\n",
    "1. Allocate memory for every new node one by one\n",
    "2. Create the `head` (1st)\n",
    "3. Then link the prev `next` to current node \n",
    "4. After, link the present `next` to next node/null (if it is the last node)\n"
   ]
  },
  {
   "cell_type": "markdown",
   "metadata": {},
   "source": [
    "### 1. Manually Linking Nodes \n",
    "\n",
    "This is the most fundamental way to create a singly linked list: manually creating each node and linking them together."
   ]
  },
  {
   "cell_type": "code",
   "execution_count": null,
   "metadata": {},
   "outputs": [
    {
     "name": "stdout",
     "output_type": "stream",
     "text": [
      "1 -> 2 -> 3 -> None\n"
     ]
    }
   ],
   "source": [
    "#manual creation:\n",
    "\n",
    "# step 1\n",
    "class Node:\n",
    "    def __init__(self, data):\n",
    "        self.data = data\n",
    "        self.next: Node | None = None\n",
    "\n",
    "#step 2\n",
    "class LinkedList:\n",
    "    def __init__(self):\n",
    "        self.head: Node | None = None\n",
    "        pass\n",
    "\n",
    "    def display(self):\n",
    "        #printing from head we need a temp pointer\n",
    "        temp = self.head\n",
    "        while (temp):\n",
    "            print (f'{temp.data} -> ', end = \"\")\n",
    "            temp = temp.next\n",
    "        print(\"None\")\n",
    "\n",
    "#code execution: for creating a three node LL\n",
    "if __name__== '__main__':\n",
    "    #first an empty list\n",
    "    llist = LinkedList()\n",
    "    llist.head = Node(1)\n",
    "    second = Node(2)\n",
    "    three = Node(3)\n",
    "\n",
    "    #nodes have been created, now linking\n",
    "    llist.head.next = second; # Link first node with second\n",
    "    second.next = three\n",
    "\n",
    "    #call the print fn \n",
    "    llist.display()\n",
    "   \n"
   ]
  },
  {
   "cell_type": "markdown",
   "metadata": {},
   "source": [
    "### 2. Based on User Input"
   ]
  },
  {
   "cell_type": "code",
   "execution_count": 9,
   "metadata": {},
   "outputs": [
    {
     "name": "stdout",
     "output_type": "stream",
     "text": [
      "The final LinkedList is:  \n",
      "1 -> 2 -> 3 -> None\n"
     ]
    }
   ],
   "source": [
    "class Node:\n",
    "    def __init__(self, data):    # Initializing data and the next pointer\n",
    "        self.data = data\n",
    "        self.next = None\n",
    "\n",
    "class LL:\n",
    "    def __init__(self):          # Initializing head\n",
    "        self.head = None\n",
    "\n",
    "    def inserting_at_the_end(self, data):\n",
    "        new_node = Node(data)   # Create a new node with the given data\n",
    "        if not self.head:       # If list is empty, new node becomes head\n",
    "            self.head = new_node\n",
    "            return\n",
    "        current = self.head\n",
    "        while current.next:     # Traverse the list to find the last node\n",
    "            current = current.next\n",
    "        current.next = new_node # Link last node to the new node\n",
    "\n",
    "    def ll_print(self):\n",
    "        current = self.head     # Bringing back the pointer to the start\n",
    "        while current:\n",
    "            print(current.data, end = \" -> \")\n",
    "            current = current.next\n",
    "        print(\"None\")\n",
    "\n",
    "ll = LL()                       # Create an empty linked list\n",
    "n = int(input(\"Enter the number of nodes you want:  \"))\n",
    "for i in range(n):\n",
    "    value = int(input(f\"Enter value for node {i+1}:  \"))\n",
    "    ll.inserting_at_the_end(value)\n",
    "\n",
    "print(\"The final LinkedList is:  \")\n",
    "ll.ll_print()"
   ]
  },
  {
   "cell_type": "markdown",
   "metadata": {},
   "source": [
    "### 3. Creating from a Python List or Array:"
   ]
  },
  {
   "cell_type": "code",
   "execution_count": null,
   "metadata": {},
   "outputs": [
    {
     "name": "stdout",
     "output_type": "stream",
     "text": [
      "Initial linked list:\n",
      "1 -> 2 -> 3 -> None\n",
      "Linked list after insertion:\n",
      "1 -> 2 -> 3 -> -1 -> None\n"
     ]
    }
   ],
   "source": [
    "class Node:\n",
    "    def __init__(self, data):\n",
    "        self.data = data\n",
    "        self.next = None\n",
    "\n",
    "def create_linked_list(arr):\n",
    "    if not arr:\n",
    "        return None\n",
    "    head = Node(arr[0])\n",
    "    current = head\n",
    "    for elem in arr[1:]:\n",
    "        current.next = Node(elem)\n",
    "        current = current.next\n",
    "    return head\n",
    "\n",
    "def insert_at_end(head, data):\n",
    "    new_node = Node(data)\n",
    "    if head is None:\n",
    "        return new_node  # New node becomes head if list was empty\n",
    "    current = head\n",
    "    while current.next:\n",
    "        current = current.next\n",
    "    current.next = new_node\n",
    "    return head          # Return the (possibly updated) head of the linked list to maintain reference\n",
    "\n",
    "def print_list(head):\n",
    "    current = head\n",
    "    while current:\n",
    "        print(current.data, end=\" -> \")\n",
    "        current = current.next\n",
    "    print(\"None\")\n",
    "\n",
    "arr = []\n",
    "n = int(input(\"Enter number of nodes: \"))\n",
    "for _ in range(n):\n",
    "    val = int(input(\"Enter node value: \"))\n",
    "    arr.append(val)\n",
    "\n",
    "head = create_linked_list(arr)\n",
    "print(\"Initial linked list:\")\n",
    "print_list(head)\n",
    "\n",
    "# Example: Insert new value at end\n",
    "val = int(input(\"Enter value to insert at end: \"))\n",
    "head = insert_at_end(head, val)\n",
    "\n",
    "print(\"Linked list after insertion:\")\n",
    "print_list(head)\n",
    "\n"
   ]
  },
  {
   "cell_type": "markdown",
   "metadata": {},
   "source": [
    "### implementing LL using deque"
   ]
  },
  {
   "cell_type": "code",
   "execution_count": 12,
   "metadata": {},
   "outputs": [
    {
     "name": "stdout",
     "output_type": "stream",
     "text": [
      "0 -> 1 -> 2 -> 2.5 -> 3 -> None\n",
      "Search 2: True\n",
      "0 -> 1 -> 2.5 -> 3 -> None\n"
     ]
    }
   ],
   "source": [
    "from collections import deque\n",
    "\n",
    "class LinkedList:\n",
    "    def __init__(self):\n",
    "        self.list = deque()\n",
    "\n",
    "    def insert_at_end(self, data):\n",
    "        \"\"\"Inserts a node at the end of the linked list.\"\"\"\n",
    "        self.list.append(data)\n",
    "\n",
    "    def insert_at_beginning(self, data):\n",
    "        \"\"\"Inserts a node at the beginning of the linked list.\"\"\"\n",
    "        self.list.appendleft(data)\n",
    "\n",
    "    def insert_after(self, prev_node_data, data):\n",
    "        \"\"\"Inserts a node after a given node.\"\"\"\n",
    "        try:\n",
    "            index = self.list.index(prev_node_data)\n",
    "            self.list.insert(index + 1, data)\n",
    "        except ValueError:\n",
    "            print(\"Previous node not found\")\n",
    "\n",
    "    def delete_node(self, key):\n",
    "        \"\"\"Deletes the first occurrence of a node with the given key.\"\"\"\n",
    "        try:\n",
    "            self.list.remove(key)\n",
    "        except ValueError:\n",
    "            print(\"Node not found\")\n",
    "\n",
    "    def search(self, key):\n",
    "        \"\"\"Searches for a node with the given key.\"\"\"\n",
    "        return key in self.list\n",
    "\n",
    "    def display(self):\n",
    "        \"\"\"Displays the linked list.\"\"\"\n",
    "        print(\" -> \".join(map(str, self.list)) + \" -> None\")\n",
    "\n",
    "# Example usage\n",
    "ll = LinkedList()\n",
    "ll.insert_at_end(1)\n",
    "ll.insert_at_end(2)\n",
    "ll.insert_at_end(3)\n",
    "ll.insert_at_beginning(0)\n",
    "ll.insert_after(2, 2.5)\n",
    "ll.display()                           # Output: 0 -> 1 -> 2 -> 2.5 -> 3 -> None\n",
    "print(\"Search 2:\", ll.search(2))       # Output: True\n",
    "ll.delete_node(2)\n",
    "ll.display()                           # Output: 0 -> 1 -> 2.5 -> 3 -> None\n"
   ]
  },
  {
   "cell_type": "markdown",
   "metadata": {},
   "source": [
    "### LL misc"
   ]
  },
  {
   "cell_type": "code",
   "execution_count": 1,
   "metadata": {},
   "outputs": [
    {
     "name": "stdout",
     "output_type": "stream",
     "text": [
      "Linked List:\n",
      "23 -> 1 -> 10 -> 0 -> 1 -> None\n",
      "\n",
      "After inserting 99 at the start:\n",
      "99 -> 23 -> 1 -> 10 -> 0 -> 1 -> None\n",
      "\n",
      "After deleting node at position 3:\n",
      "99 -> 23 -> 10 -> 0 -> 1 -> None\n",
      "\n",
      "Finding the middle element:\n",
      "Middle Element: 10\n"
     ]
    }
   ],
   "source": [
    "# Step 1: Node class\n",
    "class Node:\n",
    "    def __init__(self, data):\n",
    "        self.data = data\n",
    "        self.next = None\n",
    "\n",
    "# Step 2: Linked List class\n",
    "class LinkedList:\n",
    "    def __init__(self):\n",
    "        self.head = None\n",
    "\n",
    "    # Method to insert a node at the start\n",
    "    def insert_at_start(self, data):\n",
    "        new_node = Node(data)  # 1. Create a new node\n",
    "        new_node.next = self.head  # 2. Point new node's next to the current head\n",
    "        self.head = new_node  # 3. Update head to the new node\n",
    "\n",
    "    # Method to insert a node at the end\n",
    "    def insert_at_end(self, data):\n",
    "        new_node = Node(data)\n",
    "        if self.head is None:\n",
    "            self.head = new_node\n",
    "            return\n",
    "        temp = self.head\n",
    "        while temp.next:\n",
    "            temp = temp.next\n",
    "        temp.next = new_node\n",
    "\n",
    "    # Method to delete a node at a specific position (1-based index)\n",
    "    def delete_at_position(self, position):\n",
    "        if self.head is None:\n",
    "            print(\"List is empty.\")\n",
    "            return\n",
    "\n",
    "        temp = self.head\n",
    "\n",
    "        # If the head needs to be removed\n",
    "        if position == 1:\n",
    "            self.head = temp.next\n",
    "            temp = None\n",
    "            return\n",
    "\n",
    "        # Find previous node of the node to be deleted\n",
    "        for _ in range(position - 2):\n",
    "            if temp is None or temp.next is None:\n",
    "                print(\"Position out of range.\")\n",
    "                return\n",
    "            temp = temp.next\n",
    "\n",
    "        # If position is greater than the number of nodes\n",
    "        if temp.next is None:\n",
    "            print(\"Position out of range.\")\n",
    "            return\n",
    "\n",
    "        # Remove the node\n",
    "        target = temp.next\n",
    "        temp.next = temp.next.next\n",
    "        target = None\n",
    "\n",
    "    # Method to create a linked list from a user-inputted list\n",
    "    def create_from_user_input(self):\n",
    "        data_list = list(map(int, input(\"Enter elements separated by spaces: \").split()))\n",
    "        for item in data_list:\n",
    "            self.insert_at_end(item)\n",
    "\n",
    "    # Method to display the linked list\n",
    "    def display(self):\n",
    "        temp = self.head\n",
    "        while temp:\n",
    "            print(f\"{temp.data} -> \", end=\"\")\n",
    "            temp = temp.next\n",
    "        print(\"None\")\n",
    "\n",
    "    # Method to find the middle element using slow and fast pointers\n",
    "    def find_middle(self):\n",
    "        slow = fast = self.head\n",
    "        while fast and fast.next:\n",
    "            slow = slow.next\n",
    "            fast = fast.next.next\n",
    "        if slow:\n",
    "            print(f\"Middle Element: {slow.data}\")\n",
    "        else:\n",
    "            print(\"List is empty.\")\n",
    "\n",
    "# Step 3: Execution\n",
    "if __name__ == \"__main__\":\n",
    "    llist = LinkedList()\n",
    "\n",
    "    # Create Linked List from User Input\n",
    "    llist.create_from_user_input()\n",
    "\n",
    "    # Display the list\n",
    "    print(\"Linked List:\")\n",
    "    llist.display()\n",
    "\n",
    "    # Insert at start\n",
    "    llist.insert_at_start(99)\n",
    "    print(\"\\nAfter inserting 99 at the start:\")\n",
    "    llist.display()\n",
    "\n",
    "    # Delete node at position 3\n",
    "    llist.delete_at_position(3)\n",
    "    print(\"\\nAfter deleting node at position 3:\")\n",
    "    llist.display()\n",
    "\n",
    "    # Find the middle element\n",
    "    print(\"\\nFinding the middle element:\")\n",
    "    llist.find_middle()\n"
   ]
  }
 ],
 "metadata": {
  "kernelspec": {
   "display_name": "Python 3",
   "language": "python",
   "name": "python3"
  },
  "language_info": {
   "codemirror_mode": {
    "name": "ipython",
    "version": 3
   },
   "file_extension": ".py",
   "mimetype": "text/x-python",
   "name": "python",
   "nbconvert_exporter": "python",
   "pygments_lexer": "ipython3",
   "version": "3.13.5"
  }
 },
 "nbformat": 4,
 "nbformat_minor": 2
}
