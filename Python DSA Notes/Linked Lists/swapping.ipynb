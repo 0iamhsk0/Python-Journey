{
 "cells": [
  {
   "cell_type": "markdown",
   "id": "f8ffc759",
   "metadata": {},
   "source": [
    "## Test cases while Swapping\n",
    "\n",
    "1. LL can be empty or only 1 node\n",
    "2. The 2 nodes can be adjacent\n",
    "3. The 2 nodes can be head and tail\n",
    "4. None of the two nodes can be head or tail"
   ]
  },
  {
   "cell_type": "markdown",
   "id": "afe36107",
   "metadata": {},
   "source": [
    "## 0. LL creation"
   ]
  },
  {
   "cell_type": "code",
   "execution_count": 1,
   "id": "818b4685",
   "metadata": {},
   "outputs": [
    {
     "name": "stdout",
     "output_type": "stream",
     "text": [
      "Initial linked list:\n",
      "1 -> 2 -> 3 -> 0 -> None\n"
     ]
    }
   ],
   "source": [
    "class Node:\n",
    "    def __init__(self, data):\n",
    "        self.data = data\n",
    "        self.next = None\n",
    "\n",
    "def create_ll(arr):\n",
    "    if not arr:\n",
    "        return None\n",
    "    head = Node(arr[0])\n",
    "    current = head\n",
    "    for elem in arr[1:]:\n",
    "        current.next = Node(elem)\n",
    "        current = current.next\n",
    "        \n",
    "    return head\n",
    "\n",
    "def print_list(head):\n",
    "    current = head\n",
    "    while current:\n",
    "        print(current.data, end=\" -> \")\n",
    "        current = current.next\n",
    "    print(\"None\")\n",
    "\n",
    "\n",
    "arr = []\n",
    "n = int(input(\"Enter number of nodes: \"))\n",
    "for _ in range(n):\n",
    "    val = int(input(\"Enter node value: \"))\n",
    "    arr.append(val)\n",
    "\n",
    "head = create_ll(arr)\n",
    "print(\"Initial linked list:\")\n",
    "print_list(head)"
   ]
  },
  {
   "cell_type": "markdown",
   "id": "f68e8252",
   "metadata": {},
   "source": [
    "## Using Single traversal - O(n) Time and O(1) Space"
   ]
  },
  {
   "cell_type": "code",
   "execution_count": 4,
   "id": "7a3b26a1",
   "metadata": {},
   "outputs": [
    {
     "name": "stdout",
     "output_type": "stream",
     "text": [
      "Linked list after swapping:\n",
      "0 -> 2 -> 3 -> 1 -> None\n"
     ]
    }
   ],
   "source": [
    "def swapNodes(head, x, y):\n",
    "    if x == y:\n",
    "        return head\n",
    "    \n",
    "    prevX = None\n",
    "    currX = None\n",
    "    prevY = None\n",
    "    currY = None\n",
    "    prev = None\n",
    "    curr = head\n",
    "\n",
    "    # Finding x and y\n",
    "    while curr:\n",
    "        if curr.data == x:\n",
    "            prevX = prev\n",
    "            currX = curr\n",
    "        elif curr.data == y:\n",
    "            prevY = prev\n",
    "            currY = curr\n",
    "        prev = curr\n",
    "        curr = curr.next\n",
    "\n",
    "    # If either x or y is not present\n",
    "    if currX is None or currY is None:\n",
    "        return head\n",
    "    \n",
    "    # If x is not head\n",
    "    if prevX is not None:\n",
    "        prevX.next = currY\n",
    "    else:\n",
    "        head = currY\n",
    "    \n",
    "    # If y is not head\n",
    "    if prevY is not None:\n",
    "        prevY.next = currX\n",
    "    else:\n",
    "        head = currX\n",
    "    \n",
    "    # Swapping\n",
    "    temp = currY.next\n",
    "    currY.next = currX.next\n",
    "    currX.next = temp\n",
    "\n",
    "    return head\n",
    "\n",
    "\n",
    "x = int(input(\"Enter the value of the first node to swap: \"))\n",
    "y = int(input(\"Enter the value of the second node to swap: \"))\n",
    "\n",
    "head = swapNodes(head, x, y)\n",
    "\n",
    "print(\"Linked list after swapping:\")\n",
    "print_list(head)"
   ]
  }
 ],
 "metadata": {
  "kernelspec": {
   "display_name": "Python 3",
   "language": "python",
   "name": "python3"
  },
  "language_info": {
   "codemirror_mode": {
    "name": "ipython",
    "version": 3
   },
   "file_extension": ".py",
   "mimetype": "text/x-python",
   "name": "python",
   "nbconvert_exporter": "python",
   "pygments_lexer": "ipython3",
   "version": "3.13.5"
  }
 },
 "nbformat": 4,
 "nbformat_minor": 5
}
