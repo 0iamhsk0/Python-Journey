{
 "cells": [
  {
   "cell_type": "markdown",
   "id": "268a856f",
   "metadata": {},
   "source": [
    "There are several types of insertion based on the position where the new node is to be added:\n",
    "\n",
    "- At the front of the linked list  \n",
    "- Before a given node.\n",
    "- After a given node.\n",
    "- At a specific position.\n",
    "- At the end of the linked list."
   ]
  },
  {
   "cell_type": "markdown",
   "id": "22eceb0c",
   "metadata": {},
   "source": [
    "### 0. LL creation and printing"
   ]
  },
  {
   "cell_type": "code",
   "execution_count": 24,
   "id": "449dd088",
   "metadata": {},
   "outputs": [
    {
     "name": "stdout",
     "output_type": "stream",
     "text": [
      "Initial linked list:\n",
      "-2 -> -1 -> 1 -> 2 -> None\n"
     ]
    }
   ],
   "source": [
    "class Node:\n",
    "    def __init__(self, data):\n",
    "        self.data = data\n",
    "        self.next = None\n",
    "\n",
    "def create_ll(arr):\n",
    "    if not arr:\n",
    "        return None\n",
    "    head = Node(arr[0])\n",
    "    current = head\n",
    "    for elem in arr[1:]:\n",
    "        current.next = Node(elem)\n",
    "        current = current.next\n",
    "        \n",
    "    return head\n",
    "\n",
    "def print_list(head):\n",
    "    current = head\n",
    "    while current:\n",
    "        print(current.data, end=\" -> \")\n",
    "        current = current.next\n",
    "    print(\"None\")\n",
    "\n",
    "\n",
    "arr = []\n",
    "n = int(input(\"Enter number of nodes: \"))\n",
    "for _ in range(n):\n",
    "    val = int(input(\"Enter node value: \"))\n",
    "    arr.append(val)\n",
    "\n",
    "head = create_ll(arr)\n",
    "print(\"Initial linked list:\")\n",
    "print_list(head)"
   ]
  },
  {
   "cell_type": "markdown",
   "id": "443c8a7a",
   "metadata": {},
   "source": [
    "### 1. Front insertion"
   ]
  },
  {
   "cell_type": "code",
   "execution_count": 25,
   "id": "75f24a81",
   "metadata": {},
   "outputs": [
    {
     "name": "stdout",
     "output_type": "stream",
     "text": [
      "LL after inserting at the front:\n",
      "-3 -> -2 -> -1 -> 1 -> 2 -> None\n"
     ]
    }
   ],
   "source": [
    "def insert_front(head, front_elem):\n",
    "    new_node = Node(front_elem)\n",
    "    new_node.next = head\n",
    "    \n",
    "    return new_node\n",
    "\n",
    "\n",
    "front_elem = int(input(f\"Enter the new head/front element you want to append: \"))\n",
    "head = insert_front(head, front_elem)\n",
    "print(\"LL after inserting at the front:\")\n",
    "print_list(head)"
   ]
  },
  {
   "cell_type": "markdown",
   "id": "b0b66e23",
   "metadata": {},
   "source": [
    "### 2. After a node Insertion"
   ]
  },
  {
   "cell_type": "code",
   "execution_count": 26,
   "id": "ee2becde",
   "metadata": {},
   "outputs": [
    {
     "name": "stdout",
     "output_type": "stream",
     "text": [
      "LL after inserting in between:\n",
      "-3 -> -2 -> -1 -> 1 -> 2 -> 3 -> None\n"
     ]
    }
   ],
   "source": [
    "def insert_after(head, after_elem, insert_after_elem):\n",
    "    current = head\n",
    "    while current is not None:\n",
    "        if current.data == after_elem:\n",
    "            new_node = Node(insert_after_elem)\n",
    "            new_node.next = current.next\n",
    "            current.next = new_node\n",
    "            return head\n",
    "        current = current.next\n",
    "    print(f\"Element {after_elem} not found in the list\")\n",
    "    \n",
    "    return head\n",
    "\n",
    "\n",
    "insert_after_elem = int(input(\"Insert after which node value? \"))\n",
    "new_elem = int(input(\"Enter the new element to insert: \"))\n",
    "head = insert_after(head, insert_after_elem, new_elem)\n",
    "print(\"LL after inserting in between:\")\n",
    "print_list(head)"
   ]
  },
  {
   "cell_type": "markdown",
   "id": "eab1ccc5",
   "metadata": {},
   "source": [
    "### 3. Before a node Inserstion"
   ]
  },
  {
   "cell_type": "code",
   "execution_count": 27,
   "id": "0abb29b4",
   "metadata": {},
   "outputs": [
    {
     "name": "stdout",
     "output_type": "stream",
     "text": [
      "LL after inserting before:\n",
      "-3 -> -2 -> -1 -> 0 -> 1 -> 2 -> 3 -> None\n"
     ]
    }
   ],
   "source": [
    "# Three cases:\n",
    "# insert before head, insert between, insert when empty\n",
    "def insert_before(head, before_elem, insert_before_elem):\n",
    "    if not head:\n",
    "        print(\"LL is empty\")\n",
    "        return head\n",
    "    \n",
    "    if head.data == before_elem:\n",
    "        new_node = Node(insert_before_elem)\n",
    "        new_node.next = head\n",
    "        return new_node\n",
    "    \n",
    "    prev = None\n",
    "    current = head\n",
    "    while current and current.data != before_elem:\n",
    "        prev = current\n",
    "        current = current.next\n",
    "    if current is None:\n",
    "        print(f\"Element {before_elem} not found in the list\")\n",
    "        return head\n",
    "    new_node = Node(insert_before_elem)\n",
    "    prev.next = new_node\n",
    "    new_node.next = current\n",
    "    \n",
    "    return head\n",
    "\n",
    "\n",
    "before_elem = int(input(\"Insert before which node value? \"))\n",
    "insert_before_elem = int(input(\"Enter the new element to insert: \"))\n",
    "head = insert_before(head, before_elem, insert_before_elem)\n",
    "print(\"LL after inserting before:\")\n",
    "print_list(head)"
   ]
  },
  {
   "cell_type": "markdown",
   "id": "70e19880",
   "metadata": {},
   "source": [
    "### 4. At a specific posistion Insertion"
   ]
  },
  {
   "cell_type": "code",
   "execution_count": 29,
   "id": "9814af55",
   "metadata": {},
   "outputs": [
    {
     "name": "stdout",
     "output_type": "stream",
     "text": [
      "LL after inserting at index:\n",
      "-3 -> -2 -> -1 -> 0 -> 0 -> 1 -> 0 -> 2 -> 3 -> None\n"
     ]
    }
   ],
   "source": [
    "def insert_at_index(head, idx, new_idx_value):\n",
    "    new_node = Node(new_idx_value)\n",
    "\n",
    "    if idx == 0:\n",
    "        new_node.next = head\n",
    "        return new_node\n",
    "    current = head\n",
    "    count = 0\n",
    "    prev = None\n",
    "\n",
    "    while current and count < idx:\n",
    "        prev = current\n",
    "        current = current.next\n",
    "        count += 1\n",
    "    if count == idx:\n",
    "        prev.next = new_node\n",
    "        new_node.next = current\n",
    "    else:\n",
    "        print(\"Index out of bounds\")\n",
    "        \n",
    "    return head\n",
    "\n",
    "idx = int(input(\"Enter the index at which to insert: \"))\n",
    "new_idx_value = int(input(\"Enter the new element to insert at that index: \"))\n",
    "head = insert_at_index(head, idx, new_idx_value)\n",
    "print(\"LL after inserting at index:\")\n",
    "print_list(head)"
   ]
  },
  {
   "cell_type": "markdown",
   "id": "3003b0b6",
   "metadata": {},
   "source": [
    "### At the end Insertion"
   ]
  },
  {
   "cell_type": "code",
   "execution_count": 30,
   "id": "e41ac452",
   "metadata": {},
   "outputs": [
    {
     "name": "stdout",
     "output_type": "stream",
     "text": [
      "LL ater inserting at the end: \n",
      "-3 -> -2 -> -1 -> 0 -> 0 -> 1 -> 0 -> 2 -> 3 -> 4 -> None\n"
     ]
    }
   ],
   "source": [
    "def insert_at_end(head, new_last_elem):\n",
    "    new_node = Node(new_last_elem)\n",
    "\n",
    "    if head is None:\n",
    "        return new_node\n",
    "    \n",
    "    last = head\n",
    "    while last.next is not None:\n",
    "        last = last.next\n",
    "    last.next = new_node\n",
    "    \n",
    "    return head\n",
    "\n",
    "new_last_elem = int(input(\"Enter the element which you want to add at the end: \"))\n",
    "head = insert_at_end(head, new_last_elem)\n",
    "print(\"LL ater inserting at the end: \")\n",
    "print_list(head)"
   ]
  }
 ],
 "metadata": {
  "kernelspec": {
   "display_name": "Python 3",
   "language": "python",
   "name": "python3"
  },
  "language_info": {
   "codemirror_mode": {
    "name": "ipython",
    "version": 3
   },
   "file_extension": ".py",
   "mimetype": "text/x-python",
   "name": "python",
   "nbconvert_exporter": "python",
   "pygments_lexer": "ipython3",
   "version": "3.13.5"
  }
 },
 "nbformat": 4,
 "nbformat_minor": 5
}
