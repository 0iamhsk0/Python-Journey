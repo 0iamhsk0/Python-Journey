{
 "cells": [
  {
   "cell_type": "markdown",
   "id": "7dc2a749",
   "metadata": {},
   "source": [
    "### Iterative & Recursive Approaches"
   ]
  },
  {
   "cell_type": "code",
   "execution_count": null,
   "id": "bfc0b37b",
   "metadata": {},
   "outputs": [
    {
     "name": "stdout",
     "output_type": "stream",
     "text": [
      "Initial linked list:\n",
      "3 -> 2 -> 1 -> 4 -> 2 -> None\n",
      "Length (Iterative): 5\n",
      "Length (Recursive): 5\n"
     ]
    }
   ],
   "source": [
    "class Node:\n",
    "    def __init__(self, data):\n",
    "        self.data = data\n",
    "        self.next = None\n",
    "    \n",
    "def create_ll(arr):\n",
    "    if not arr:\n",
    "        return None\n",
    "    head = Node(arr[0])\n",
    "    current = head\n",
    "    for elem in arr[1:]:\n",
    "        current.next = Node(elem)\n",
    "        current = current.next\n",
    "    return head\n",
    "\n",
    "def length_iterative(head):\n",
    "    count = 0\n",
    "    current = head\n",
    "    while current:\n",
    "        count += 1\n",
    "        current = current.next\n",
    "    return count\n",
    "\n",
    "def length_recursive(head):\n",
    "    if not head:\n",
    "        return 0\n",
    "    return 1 + length_iterative(head.next)\n",
    "\n",
    "def print_list(head):\n",
    "    current = head\n",
    "    while current:\n",
    "        print(current.data, end=\" -> \")\n",
    "        current = current.next\n",
    "    print(\"None\")\n",
    "\n",
    "arr = []\n",
    "n = int(input(\"Enter number of nodes: \"))\n",
    "for _ in range(n):\n",
    "    val = int(input(\"Enter node value: \"))\n",
    "    arr.append(val)\n",
    "\n",
    "head = create_ll(arr)\n",
    "print(\"Initial linked list:\")\n",
    "print_list(head)\n",
    "print(f\"Length (Iterative): {length_iterative(head)}\")\n",
    "print(f\"Length (Recursive): {length_recursive(head)}\")"
   ]
  },
  {
   "cell_type": "markdown",
   "id": "bfb6547d",
   "metadata": {},
   "source": []
  }
 ],
 "metadata": {
  "kernelspec": {
   "display_name": "Python 3",
   "language": "python",
   "name": "python3"
  },
  "language_info": {
   "codemirror_mode": {
    "name": "ipython",
    "version": 3
   },
   "file_extension": ".py",
   "mimetype": "text/x-python",
   "name": "python",
   "nbconvert_exporter": "python",
   "pygments_lexer": "ipython3",
   "version": "3.13.5"
  }
 },
 "nbformat": 4,
 "nbformat_minor": 5
}
