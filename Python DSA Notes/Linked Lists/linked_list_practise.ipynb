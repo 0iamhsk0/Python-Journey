{
 "cells": [
  {
   "cell_type": "code",
   "execution_count": null,
   "id": "ec82c070",
   "metadata": {},
   "outputs": [],
   "source": [
    "# creating the class\n",
    "class Node:\n",
    "    def __init__(self, data):\n",
    "        self.data = data\n",
    "        self.next = None\n",
    "\n",
    "# creating the node objects\n",
    "head = Node(1)\n",
    "second = Node(2)\n",
    "third = Node(3)\n",
    "\n",
    "# Linking them \n",
    "head.next = second\n",
    "second.next = third\n"
   ]
  },
  {
   "cell_type": "code",
   "execution_count": 2,
   "id": "2d1d8157",
   "metadata": {},
   "outputs": [
    {
     "name": "stdout",
     "output_type": "stream",
     "text": [
      "The created linked list is:\n",
      "1 -> 2 -> 3 -> 4 -> None\n"
     ]
    }
   ],
   "source": [
    "class Node:\n",
    "    def __init__(self, data):\n",
    "        self.data = data         # Store the value of the node\n",
    "        self.next = None         # Initialize next pointer to None (no next node yet)\n",
    "\n",
    "class LinkedList:\n",
    "    def __init__(self):\n",
    "        self.head = None         # Start with an empty list; head points to None\n",
    "\n",
    "    def insert_at_end(self, data):\n",
    "        new_node = Node(data)    # Create a new node with the given data\n",
    "        if not self.head:\n",
    "            self.head = new_node # If list is empty, new node becomes head\n",
    "            return\n",
    "        current = self.head\n",
    "        while current.next:      # Traverse the list to find the last node\n",
    "            current = current.next\n",
    "        current.next = new_node  # Link the last node to the new node\n",
    "\n",
    "    def print_list(self):\n",
    "        current = self.head\n",
    "        while current:           # Traverse from head until end of list\n",
    "            print(current.data, end=\" -> \")  # Print current node's data\n",
    "            current = current.next  # Move to next node\n",
    "        print(\"None\")            # Indicate end of linked list\n",
    "\n",
    "# Create an empty linked list\n",
    "ll = LinkedList()\n",
    "\n",
    "# Ask user for number of nodes to add\n",
    "n = int(input(\"Enter the number of nodes: \"))\n",
    "for i in range(n):\n",
    "    value = int(input(f\"Enter value for node {i+1}: \"))  # Get data input from user\n",
    "    ll.insert_at_end(value)   # Insert data at the end of the linked list\n",
    "\n",
    "# Print the entire linked list\n",
    "print(\"The created linked list is:\")\n",
    "ll.print_list()\n"
   ]
  },
  {
   "cell_type": "code",
   "execution_count": null,
   "id": "6b06e3b6",
   "metadata": {},
   "outputs": [
    {
     "name": "stdout",
     "output_type": "stream",
     "text": [
      "The final LinkedList is:  \n",
      "0 -> 3 -> -1 -> None\n"
     ]
    }
   ],
   "source": [
    "class Node:\n",
    "    def __init__(self, data):    # Initializing data and the next pointer\n",
    "        self.data = data\n",
    "        self.next = None\n",
    "\n",
    "class LL:\n",
    "    def __init__(self):          # Initializing head\n",
    "        self.head = None\n",
    "\n",
    "    def inserting_at_the_end(self, data):\n",
    "        new_node = Node(data)\n",
    "        if not self.head:       # If list is empty, new node becomes head\n",
    "            self.head = new_node\n",
    "            return\n",
    "        current = self.head\n",
    "        while current.next:     # Traverse the list to find the last node\n",
    "            current = current.next\n",
    "        current.next = new_node # Link last node to the new node\n",
    "\n",
    "    def ll_print(self):\n",
    "        current = self.head     # Bringing back the pointer to the start\n",
    "        while current:\n",
    "            print(current.data, end = \" -> \")\n",
    "            current = current.next\n",
    "        print(\"None\")\n",
    "\n",
    "ll = LL()\n",
    "n = int(input(\"Enter the number of nodes you want:  \"))\n",
    "for i in range(n):\n",
    "    value = int(input(f\"Enter value for node {i+1}:  \"))\n",
    "    ll.inserting_at_the_end(value)\n",
    "\n",
    "print(\"The final LinkedList is:  \")\n",
    "ll.ll_print()"
   ]
  },
  {
   "cell_type": "code",
   "execution_count": null,
   "id": "85ebc9cb",
   "metadata": {},
   "outputs": [],
   "source": []
  }
 ],
 "metadata": {
  "kernelspec": {
   "display_name": "Python 3",
   "language": "python",
   "name": "python3"
  },
  "language_info": {
   "codemirror_mode": {
    "name": "ipython",
    "version": 3
   },
   "file_extension": ".py",
   "mimetype": "text/x-python",
   "name": "python",
   "nbconvert_exporter": "python",
   "pygments_lexer": "ipython3",
   "version": "3.13.5"
  }
 },
 "nbformat": 4,
 "nbformat_minor": 5
}
