{
 "cells": [
  {
   "cell_type": "markdown",
   "id": "843f27a8",
   "metadata": {},
   "source": [
    "### 1. collections.deque\n",
    "\n",
    "The `collections.deque library` in Python is used to implement **LINKED LIST** in Python."
   ]
  },
  {
   "cell_type": "markdown",
   "id": "915fee28",
   "metadata": {},
   "source": [
    "Important Methods in deque library\n",
    "\n",
    "- `append(ele):` Add ele to the right side of the deque\n",
    "- `appendleft(ele):` Add ele to the left side of the deque.\n",
    "- `clear():`Remove all elements from the deque leaving it with length 0.\n",
    "- `copy():` Create a shallow copy of the deque.\n",
    "- `count(ele`): Count the number of deque elements equal to x.\n",
    "- `extend():` Extend the right side of the deque by appending elements from the iterable argument.\n",
    "- `extendleft():` Extend the left side of the deque by appending elements from iterable.\n",
    "- `index():` Return the position of x in the deque. Returns the first match.\n",
    "- `insert():` Insert x into the deque at position i.\n",
    "- `pop():` Remove and return an element from the right side of the deque.\n",
    "- `popleft():` Remove and return an element from the left side of the deque.\n",
    "- `remove():` Remove the first occurrence of value.\n",
    "- `reverse():` Reverse the elements of the deque.\n",
    "- `rotate():` Rotate the deque n steps to the right."
   ]
  },
  {
   "cell_type": "markdown",
   "id": "f717b338",
   "metadata": {},
   "source": [
    "### 2. queue.Queue\n",
    "\n",
    "The `queue.Queue library` in Python is used to implement **QUEUE** in Python.\n"
   ]
  },
  {
   "cell_type": "markdown",
   "id": "330a44ce",
   "metadata": {},
   "source": [
    "- `Queue.qsize():` Return the approximate size of the queue.\n",
    "- `Queue.empty():` Return True if the queue is empty, False otherwise.\n",
    "- `Queue.full():` Return True if the queue is full, False otherwise.\n",
    "- `Queue.put():` Put item into the queue.\n",
    "- `Queue.get():` Remove and return the 1st item from the queue."
   ]
  },
  {
   "cell_type": "markdown",
   "id": "16b946b9",
   "metadata": {},
   "source": [
    "### 3. collections.Counter\n",
    "\n",
    "The `collections.Counter library` in Python is used to implement **HASH MAP** in Python."
   ]
  },
  {
   "cell_type": "markdown",
   "id": "6e797e5a",
   "metadata": {},
   "source": [
    "\n",
    "- `elements()`\t    Iterator over elements by their count\n",
    "- `most_common()`\tList of most common elements and their counts\n",
    "- `update()`\t    Add counts from another iterable or mapping\n",
    "- `subtract()`\t    Subtract counts from another iterable or mapping"
   ]
  },
  {
   "cell_type": "markdown",
   "id": "8b47782c",
   "metadata": {},
   "source": [
    "### 4. heapq\n",
    "\n",
    "The `heapq library` in Python is used to implement **priority queues (min-heaps), not regular queues.** in Python."
   ]
  },
  {
   "cell_type": "markdown",
   "id": "df59571f",
   "metadata": {},
   "source": [
    "- `heapify(heap)`: Convert a list into a heap in-place.\n",
    "- `heappush(heap, item)`: Add item to the heap.\n",
    "- `heappop(heap)`: Remove and return the smallest item.\n",
    "- `heappushpop(heap, item)`: Push item, then pop and return the smallest.\n",
    "- `heapreplace(heap, item)`: Pop and return the smallest, then push item.\n",
    "- `merge(iterables)`: Merge multiple sorted iterables into one sorted iterator.\n",
    "- `nlargest(n, iterable)`: Return the n largest elements.\n",
    "- `nsmallest(n, iterable)`: Return the n"
   ]
  },
  {
   "cell_type": "markdown",
   "id": "a3fe4085",
   "metadata": {},
   "source": [
    "### 5. treelib\n",
    "\n",
    "The `treelib` library in Python is used to implement **tree data structures**.\n",
    "\n",
    "**Important Methods in treelib:**\n",
    "- `create_node(tag, node_id=None, parent=None)`: Add a new node.\n",
    "- `remove_node(node_id)`: Remove a node by its ID.\n",
    "- `get_node(node_id)`: Get a node by its ID.\n",
    "- `update_node(node_id, tag=None, data=None)`: Update a node's tag/data.\n",
    "- `contains(node_id)`: Check if a node exists.\n",
    "- `parent(node_id)`: Get the parent of a node.\n",
    "- `children(node_id)`: Get children of a node.\n",
    "- `depth(node_id)`: Get depth of a node.\n",
    "- `size(node_id=None)`: Get size of subtree or whole tree.\n",
    "- `height(node_id=None)`: Get height of subtree or whole tree.\n",
    "- `show(line_type=\"ascii\")`: Print the tree."
   ]
  },
  {
   "cell_type": "markdown",
   "id": "d0d8449c",
   "metadata": {},
   "source": [
    "### 6. bisect\n",
    "\n",
    "The `bisect` module in Python is used for **binary search and maintaining sorted lists**.\n",
    "\n",
    "**Important Methods in bisect:**\n",
    "- `bisect_left(list, x)`: Find insertion point for x to keep list sorted (left).\n",
    "- `bisect_right(list, x)`: Find insertion point for x to keep list sorted (right).\n",
    "- `insort_left(list, x)`: Insert x in list (left).\n",
    "- `insort_right(list, x)`: Insert x in list (right).\n",
    "- `insort(list, x)`: Insert x in list (right, alias).\n",
    "- `bisect(list, x)`: Alias for `bisect_right`."
   ]
  },
  {
   "cell_type": "markdown",
   "id": "3f49f23f",
   "metadata": {},
   "source": [
    "### 7. intervaltree\n",
    "\n",
    "The `intervaltree` library in Python is used to implement **interval trees** for efficient interval/range queries.\n",
    "\n",
    "**Important Methods in intervaltree:**\n",
    "- `add(interval)`: Add an interval.\n",
    "- `remove(interval)`: Remove an interval.\n",
    "- `search(begin, end)`: Find intervals overlapping with [begin, end].\n",
    "- `overlap(begin, end)`: Alias for `search`.\n",
    "- `at(point)`: Find intervals containing a point.\n",
    "- `clear()`: Remove all intervals.\n",
    "- `copy()`: Shallow copy of the tree.\n",
    "- `discard(interval)`: Remove interval if exists.\n",
    "- `items()`: Iterate all intervals.\n",
    "- `size()`: Number of intervals.\n",
    "- `empty()`: Check if tree is empty."
   ]
  },
  {
   "cell_type": "markdown",
   "id": "d04b8af8",
   "metadata": {},
   "source": [
    "### 8. trie\n",
    "\n",
    "The `trie` library in Python is used to implement **Trie (prefix tree)** data structures.\n",
    "\n",
    "**Important Methods in trie:**\n",
    "- `Trie()`: Create a new Trie.\n",
    "- `insert(word)`: Insert a word.\n",
    "- `search(word)`: Check if a word exists.\n",
    "- `startswith(prefix)`: Check if any word starts with prefix.\n",
    "- `delete(word)`: Delete a word.\n",
    "- `words(prefix='')`: List words with given prefix.\n",
    "- `autocomplete(prefix)`: Suggest words with prefix.\n",
    "- `count_words()`: Total words in trie.\n",
    "- `count_prefixes(prefix)`: Number of words with prefix."
   ]
  },
  {
   "cell_type": "markdown",
   "id": "908582ea",
   "metadata": {},
   "source": [
    "## And many more..."
   ]
  }
 ],
 "metadata": {
  "language_info": {
   "name": "python"
  }
 },
 "nbformat": 4,
 "nbformat_minor": 5
}
